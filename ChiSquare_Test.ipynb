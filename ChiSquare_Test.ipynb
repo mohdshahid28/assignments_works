{
 "cells": [
  {
   "cell_type": "code",
   "execution_count": 1,
   "id": "fcb4657d",
   "metadata": {},
   "outputs": [],
   "source": [
    "#  Import libraries\n",
    "import numpy as np\n",
    "import pandas as pd\n",
    "from scipy.stats import chi2_contingency, chi2"
   ]
  },
  {
   "cell_type": "code",
   "execution_count": 2,
   "id": "fbb04332",
   "metadata": {},
   "outputs": [],
   "source": [
    "data = np.array([\n",
    "    [50, 70],   # Very Satisfied\n",
    "    [80, 100],  # Satisfied\n",
    "    [60, 90],   # Neutral\n",
    "    [30, 50],   # Unsatisfied\n",
    "    [20, 50]    # Very Unsatisfied\n",
    "])"
   ]
  },
  {
   "cell_type": "code",
   "execution_count": 3,
   "id": "24bcb50e",
   "metadata": {},
   "outputs": [
    {
     "name": "stdout",
     "output_type": "stream",
     "text": [
      "Observed Frequency Table:\n",
      "\n",
      "                  Smart Thermostat  Smart Light\n",
      "Very Satisfied                  50           70\n",
      "Satisfied                       80          100\n",
      "Neutral                         60           90\n",
      "Unsatisfied                     30           50\n",
      "Very Unsatisfied                20           50\n"
     ]
    }
   ],
   "source": [
    "# Convert into DataFrame for better visualization\n",
    "df = pd.DataFrame(data, \n",
    "                  columns=[\"Smart Thermostat\", \"Smart Light\"], \n",
    "                  index=[\"Very Satisfied\", \"Satisfied\", \"Neutral\", \"Unsatisfied\", \"Very Unsatisfied\"])\n",
    "print(\"Observed Frequency Table:\\n\")\n",
    "print(df)"
   ]
  },
  {
   "cell_type": "code",
   "execution_count": 4,
   "id": "895b33e5",
   "metadata": {},
   "outputs": [
    {
     "name": "stdout",
     "output_type": "stream",
     "text": [
      "\n",
      "Chi-Square Statistic: 5.638227513227513\n",
      "Degrees of Freedom: 4\n",
      "P-value: 0.22784371130697179\n"
     ]
    }
   ],
   "source": [
    "# Chi-Square Test\n",
    "chi2_stat, p_val, dof, expected = chi2_contingency(data)\n",
    "\n",
    "print(\"\\nChi-Square Statistic:\", chi2_stat)\n",
    "print(\"Degrees of Freedom:\", dof)\n",
    "print(\"P-value:\", p_val)\n"
   ]
  },
  {
   "cell_type": "code",
   "execution_count": 5,
   "id": "4fa898db",
   "metadata": {},
   "outputs": [
    {
     "name": "stdout",
     "output_type": "stream",
     "text": [
      "Critical Value (0.05): 9.487729036781154\n"
     ]
    }
   ],
   "source": [
    "# Critical Value at alpha=0.05\n",
    "alpha = 0.05\n",
    "critical_value = chi2.ppf(1 - alpha, dof)\n",
    "print(\"Critical Value (0.05):\", critical_value)"
   ]
  },
  {
   "cell_type": "code",
   "execution_count": 6,
   "id": "36333b64",
   "metadata": {},
   "outputs": [
    {
     "name": "stdout",
     "output_type": "stream",
     "text": [
      "\n",
      "❌ Fail to Reject H0: No significant association between Device Type and Customer Satisfaction.\n"
     ]
    }
   ],
   "source": [
    "if chi2_stat > critical_value:\n",
    "    print(\"\\n✅ Reject H0: There IS a significant association between Device Type and Customer Satisfaction.\")\n",
    "else:\n",
    "    print(\"\\n❌ Fail to Reject H0: No significant association between Device Type and Customer Satisfaction.\")\n"
   ]
  },
  {
   "cell_type": "code",
   "execution_count": 7,
   "id": "2946e102",
   "metadata": {},
   "outputs": [
    {
     "name": "stdout",
     "output_type": "stream",
     "text": [
      "\n",
      "Expected Frequency Table:\n",
      "\n",
      "                  Smart Thermostat  Smart Light\n",
      "Very Satisfied                48.0         72.0\n",
      "Satisfied                     72.0        108.0\n",
      "Neutral                       60.0         90.0\n",
      "Unsatisfied                   32.0         48.0\n",
      "Very Unsatisfied              28.0         42.0\n"
     ]
    }
   ],
   "source": [
    "print(\"\\nExpected Frequency Table:\\n\")\n",
    "print(pd.DataFrame(expected, \n",
    "                   columns=[\"Smart Thermostat\", \"Smart Light\"], \n",
    "                   index=[\"Very Satisfied\", \"Satisfied\", \"Neutral\", \"Unsatisfied\", \"Very Unsatisfied\"]))\n"
   ]
  }
 ],
 "metadata": {
  "kernelspec": {
   "display_name": "Python 3",
   "language": "python",
   "name": "python3"
  },
  "language_info": {
   "codemirror_mode": {
    "name": "ipython",
    "version": 3
   },
   "file_extension": ".py",
   "mimetype": "text/x-python",
   "name": "python",
   "nbconvert_exporter": "python",
   "pygments_lexer": "ipython3",
   "version": "3.10.6"
  }
 },
 "nbformat": 4,
 "nbformat_minor": 5
}
