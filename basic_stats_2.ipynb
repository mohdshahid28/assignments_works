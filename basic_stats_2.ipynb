{
 "cells": [
  {
   "cell_type": "code",
   "execution_count": 1,
   "id": "febc11d4",
   "metadata": {},
   "outputs": [],
   "source": [
    "import numpy as np\n",
    "import scipy.stats as stats"
   ]
  },
  {
   "cell_type": "code",
   "execution_count": 2,
   "id": "978ed7c1",
   "metadata": {},
   "outputs": [],
   "source": [
    "# Sample data: Durability in millions of characters\n",
    "data = [1.13, 1.55, 1.43, 0.92, 1.25, 1.36, 1.32, 0.85, 1.07, 1.48, 1.20, 1.33, 1.18, 1.22, 1.29]\n",
    "\n",
    "# Step 1: Calculate basic statistics\n",
    "n = len(data)  # sample size\n",
    "mean = np.mean(data)  # sample mean\n",
    "sample_std = np.std(data, ddof=1)  # sample standard deviation (ddof=1 for sample)\n"
   ]
  },
  {
   "cell_type": "code",
   "execution_count": 3,
   "id": "aefe7cf3",
   "metadata": {},
   "outputs": [],
   "source": [
    "\n",
    "# Confidence level\n",
    "confidence = 0.99\n",
    "alpha = 1 - confidence\n"
   ]
  },
  {
   "cell_type": "code",
   "execution_count": 4,
   "id": "9d124f92",
   "metadata": {},
   "outputs": [],
   "source": [
    "# Degrees of freedom\n",
    "df = n - 1\n",
    "\n",
    "# Find t-critical value\n",
    "t_critical = stats.t.ppf(1 - alpha/2, df)\n"
   ]
  },
  {
   "cell_type": "code",
   "execution_count": 5,
   "id": "4fb8afba",
   "metadata": {},
   "outputs": [],
   "source": [
    "# Margin of error using sample std\n",
    "margin_of_error_t = t_critical * (sample_std / np.sqrt(n))\n",
    "\n",
    "# Confidence Interval\n",
    "ci_t = (mean - margin_of_error_t, mean + margin_of_error_t)\n"
   ]
  },
  {
   "cell_type": "code",
   "execution_count": 6,
   "id": "5954a360",
   "metadata": {},
   "outputs": [
    {
     "name": "stdout",
     "output_type": "stream",
     "text": [
      "99% Confidence Interval using t-distribution (sample std):\n",
      "Mean: 1.239\n",
      "CI: (1.090, 1.387)\n"
     ]
    }
   ],
   "source": [
    "print(\"99% Confidence Interval using t-distribution (sample std):\")\n",
    "print(f\"Mean: {mean:.3f}\")\n",
    "print(f\"CI: ({ci_t[0]:.3f}, {ci_t[1]:.3f})\")\n"
   ]
  },
  {
   "cell_type": "code",
   "execution_count": 7,
   "id": "414e653f",
   "metadata": {},
   "outputs": [],
   "source": [
    "#  Confidence Interval using known population std (z-distribution)\n",
    "# ---------------------------------------\n",
    "pop_std = 0.2  # Given population standard deviation\n"
   ]
  },
  {
   "cell_type": "code",
   "execution_count": 8,
   "id": "de255696",
   "metadata": {},
   "outputs": [],
   "source": [
    "# Find z-critical value\n",
    "z_critical = stats.norm.ppf(1 - alpha/2)\n",
    "\n",
    "# Margin of error using population std\n",
    "margin_of_error_z = z_critical * (pop_std / np.sqrt(n))\n"
   ]
  },
  {
   "cell_type": "code",
   "execution_count": 9,
   "id": "e6c9367a",
   "metadata": {},
   "outputs": [
    {
     "name": "stdout",
     "output_type": "stream",
     "text": [
      "\n",
      "99% Confidence Interval using z-distribution (known population std):\n",
      "Mean: 1.239\n",
      "CI: (1.106, 1.372)\n"
     ]
    }
   ],
   "source": [
    "ci_z = (mean - margin_of_error_z, mean + margin_of_error_z)\n",
    "\n",
    "print(\"\\n99% Confidence Interval using z-distribution (known population std):\")\n",
    "print(f\"Mean: {mean:.3f}\")\n",
    "print(f\"CI: ({ci_z[0]:.3f}, {ci_z[1]:.3f})\")\n"
   ]
  }
 ],
 "metadata": {
  "kernelspec": {
   "display_name": "Python 3",
   "language": "python",
   "name": "python3"
  },
  "language_info": {
   "codemirror_mode": {
    "name": "ipython",
    "version": 3
   },
   "file_extension": ".py",
   "mimetype": "text/x-python",
   "name": "python",
   "nbconvert_exporter": "python",
   "pygments_lexer": "ipython3",
   "version": "3.10.6"
  }
 },
 "nbformat": 4,
 "nbformat_minor": 5
}
