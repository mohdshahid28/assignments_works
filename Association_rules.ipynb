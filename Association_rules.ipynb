{
 "cells": [
  {
   "cell_type": "code",
   "execution_count": null,
   "id": "fe01df88",
   "metadata": {},
   "outputs": [],
   "source": [
    "\n",
    "# Step 1: Import Required Libraries\n",
    "\n",
    "import pandas as pd\n",
    "import numpy as np\n",
    "from mlxtend.frequent_patterns import apriori, association_rules\n",
    "\n",
    "# Expert Note:\n",
    "# Pandas – data handling\n",
    "# Mlxtend – provides Apriori & association rule functions\n"
   ]
  },
  {
   "cell_type": "code",
   "execution_count": null,
   "id": "f9d8c35a",
   "metadata": {},
   "outputs": [
    {
     "data": {
      "text/html": [
       "<div>\n",
       "<style scoped>\n",
       "    .dataframe tbody tr th:only-of-type {\n",
       "        vertical-align: middle;\n",
       "    }\n",
       "\n",
       "    .dataframe tbody tr th {\n",
       "        vertical-align: top;\n",
       "    }\n",
       "\n",
       "    .dataframe thead th {\n",
       "        text-align: right;\n",
       "    }\n",
       "</style>\n",
       "<table border=\"1\" class=\"dataframe\">\n",
       "  <thead>\n",
       "    <tr style=\"text-align: right;\">\n",
       "      <th></th>\n",
       "      <th>shrimp,almonds,avocado,vegetables mix,green grapes,whole weat flour,yams,cottage cheese,energy drink,tomato juice,low fat yogurt,green tea,honey,salad,mineral water,salmon,antioxydant juice,frozen smoothie,spinach,olive oil</th>\n",
       "    </tr>\n",
       "  </thead>\n",
       "  <tbody>\n",
       "    <tr>\n",
       "      <th>0</th>\n",
       "      <td>burgers,meatballs,eggs</td>\n",
       "    </tr>\n",
       "    <tr>\n",
       "      <th>1</th>\n",
       "      <td>chutney</td>\n",
       "    </tr>\n",
       "    <tr>\n",
       "      <th>2</th>\n",
       "      <td>turkey,avocado</td>\n",
       "    </tr>\n",
       "    <tr>\n",
       "      <th>3</th>\n",
       "      <td>mineral water,milk,energy bar,whole wheat rice...</td>\n",
       "    </tr>\n",
       "    <tr>\n",
       "      <th>4</th>\n",
       "      <td>low fat yogurt</td>\n",
       "    </tr>\n",
       "  </tbody>\n",
       "</table>\n",
       "</div>"
      ],
      "text/plain": [
       "  shrimp,almonds,avocado,vegetables mix,green grapes,whole weat flour,yams,cottage cheese,energy drink,tomato juice,low fat yogurt,green tea,honey,salad,mineral water,salmon,antioxydant juice,frozen smoothie,spinach,olive oil\n",
       "0                             burgers,meatballs,eggs                                                                                                                                                                             \n",
       "1                                            chutney                                                                                                                                                                             \n",
       "2                                     turkey,avocado                                                                                                                                                                             \n",
       "3  mineral water,milk,energy bar,whole wheat rice...                                                                                                                                                                             \n",
       "4                                     low fat yogurt                                                                                                                                                                             "
      ]
     },
     "execution_count": 2,
     "metadata": {},
     "output_type": "execute_result"
    }
   ],
   "source": [
    "\n",
    "# Step 2: Load the Dataset\n",
    "\n",
    "# Replace path with your dataset CSV (Online Retail)\n",
    "df = pd.read_excel(\"Online Retail.xlsx\")\n",
    "\n",
    "# Quick check\n",
    "df.head()\n",
    "\n"
   ]
  },
  {
   "cell_type": "code",
   "execution_count": 3,
   "id": "ac9b2790",
   "metadata": {},
   "outputs": [
    {
     "name": "stdout",
     "output_type": "stream",
     "text": [
      "<class 'pandas.core.frame.DataFrame'>\n",
      "RangeIndex: 7500 entries, 0 to 7499\n",
      "Data columns (total 1 columns):\n",
      " #   Column                                                                                                                                                                                                                           Non-Null Count  Dtype \n",
      "---  ------                                                                                                                                                                                                                           --------------  ----- \n",
      " 0   shrimp,almonds,avocado,vegetables mix,green grapes,whole weat flour,yams,cottage cheese,energy drink,tomato juice,low fat yogurt,green tea,honey,salad,mineral water,salmon,antioxydant juice,frozen smoothie,spinach,olive oil  7500 non-null   object\n",
      "dtypes: object(1)\n",
      "memory usage: 58.7+ KB\n"
     ]
    }
   ],
   "source": [
    "df.info()"
   ]
  },
  {
   "cell_type": "code",
   "execution_count": 4,
   "id": "baf0a005",
   "metadata": {},
   "outputs": [
    {
     "name": "stdout",
     "output_type": "stream",
     "text": [
      "Index(['shrimp,almonds,avocado,vegetables mix,green grapes,whole weat flour,yams,cottage cheese,energy drink,tomato juice,low fat yogurt,green tea,honey,salad,mineral water,salmon,antioxydant juice,frozen smoothie,spinach,olive oil'], dtype='object')\n"
     ]
    }
   ],
   "source": [
    "print(df.columns)\n"
   ]
  },
  {
   "cell_type": "code",
   "execution_count": 5,
   "id": "5856ed4e",
   "metadata": {},
   "outputs": [],
   "source": [
    "df.columns = [\"items\"]"
   ]
  },
  {
   "cell_type": "code",
   "execution_count": null,
   "id": "63984dbe",
   "metadata": {},
   "outputs": [],
   "source": [
    "\n",
    "# Step 3: Split Items into List\n",
    "\n",
    "# Each row → list of items\n",
    "df['items'] = df['items'].apply(lambda x: x.split(','))\n",
    "\n",
    "\n"
   ]
  },
  {
   "cell_type": "code",
   "execution_count": 7,
   "id": "60bacdd5",
   "metadata": {},
   "outputs": [
    {
     "data": {
      "text/html": [
       "<div>\n",
       "<style scoped>\n",
       "    .dataframe tbody tr th:only-of-type {\n",
       "        vertical-align: middle;\n",
       "    }\n",
       "\n",
       "    .dataframe tbody tr th {\n",
       "        vertical-align: top;\n",
       "    }\n",
       "\n",
       "    .dataframe thead th {\n",
       "        text-align: right;\n",
       "    }\n",
       "</style>\n",
       "<table border=\"1\" class=\"dataframe\">\n",
       "  <thead>\n",
       "    <tr style=\"text-align: right;\">\n",
       "      <th></th>\n",
       "      <th>items</th>\n",
       "    </tr>\n",
       "  </thead>\n",
       "  <tbody>\n",
       "    <tr>\n",
       "      <th>0</th>\n",
       "      <td>[burgers, meatballs, eggs]</td>\n",
       "    </tr>\n",
       "    <tr>\n",
       "      <th>1</th>\n",
       "      <td>[chutney]</td>\n",
       "    </tr>\n",
       "    <tr>\n",
       "      <th>2</th>\n",
       "      <td>[turkey, avocado]</td>\n",
       "    </tr>\n",
       "    <tr>\n",
       "      <th>3</th>\n",
       "      <td>[mineral water, milk, energy bar, whole wheat ...</td>\n",
       "    </tr>\n",
       "    <tr>\n",
       "      <th>4</th>\n",
       "      <td>[low fat yogurt]</td>\n",
       "    </tr>\n",
       "    <tr>\n",
       "      <th>5</th>\n",
       "      <td>[whole wheat pasta, french fries]</td>\n",
       "    </tr>\n",
       "    <tr>\n",
       "      <th>6</th>\n",
       "      <td>[soup, light cream, shallot]</td>\n",
       "    </tr>\n",
       "    <tr>\n",
       "      <th>7</th>\n",
       "      <td>[frozen vegetables, spaghetti, green tea]</td>\n",
       "    </tr>\n",
       "    <tr>\n",
       "      <th>8</th>\n",
       "      <td>[french fries]</td>\n",
       "    </tr>\n",
       "    <tr>\n",
       "      <th>9</th>\n",
       "      <td>[eggs, pet food]</td>\n",
       "    </tr>\n",
       "  </tbody>\n",
       "</table>\n",
       "</div>"
      ],
      "text/plain": [
       "                                               items\n",
       "0                         [burgers, meatballs, eggs]\n",
       "1                                          [chutney]\n",
       "2                                  [turkey, avocado]\n",
       "3  [mineral water, milk, energy bar, whole wheat ...\n",
       "4                                   [low fat yogurt]\n",
       "5                  [whole wheat pasta, french fries]\n",
       "6                       [soup, light cream, shallot]\n",
       "7          [frozen vegetables, spaghetti, green tea]\n",
       "8                                     [french fries]\n",
       "9                                   [eggs, pet food]"
      ]
     },
     "execution_count": 7,
     "metadata": {},
     "output_type": "execute_result"
    }
   ],
   "source": [
    "df.head(10)"
   ]
  },
  {
   "cell_type": "code",
   "execution_count": null,
   "id": "12a0435a",
   "metadata": {},
   "outputs": [
    {
     "name": "stdout",
     "output_type": "stream",
     "text": [
      "    asparagus  almonds  antioxydant juice  asparagus  avocado  babies food  \\\n",
      "0       False    False              False      False    False        False   \n",
      "1       False    False              False      False    False        False   \n",
      "2       False    False              False      False     True        False   \n",
      "3       False    False              False      False    False        False   \n",
      "4       False    False              False      False    False        False   \n",
      "\n",
      "   bacon  barbecue sauce  black tea  blueberries  ...  turkey  vegetables mix  \\\n",
      "0  False           False      False        False  ...   False           False   \n",
      "1  False           False      False        False  ...   False           False   \n",
      "2  False           False      False        False  ...    True           False   \n",
      "3  False           False      False        False  ...   False           False   \n",
      "4  False           False      False        False  ...   False           False   \n",
      "\n",
      "   water spray  white wine  whole weat flour  whole wheat pasta  \\\n",
      "0        False       False             False              False   \n",
      "1        False       False             False              False   \n",
      "2        False       False             False              False   \n",
      "3        False       False             False              False   \n",
      "4        False       False             False              False   \n",
      "\n",
      "   whole wheat rice   yams  yogurt cake  zucchini  \n",
      "0             False  False        False     False  \n",
      "1             False  False        False     False  \n",
      "2             False  False        False     False  \n",
      "3              True  False        False     False  \n",
      "4             False  False        False     False  \n",
      "\n",
      "[5 rows x 120 columns]\n"
     ]
    }
   ],
   "source": [
    "\n",
    "# Step 4: Convert to Basket Format\n",
    "\n",
    "from mlxtend.preprocessing import TransactionEncoder\n",
    "\n",
    "te = TransactionEncoder()\n",
    "te_data = te.fit(df['items']).transform(df['items'])\n",
    "\n",
    "basket = pd.DataFrame(te_data, columns=te.columns_)\n",
    "print(basket.head())\n",
    "\n",
    "# Now 'basket' is a 0/1 matrix (Transaction vs Items).\n"
   ]
  },
  {
   "cell_type": "code",
   "execution_count": null,
   "id": "f8e50e25",
   "metadata": {},
   "outputs": [
    {
     "name": "stdout",
     "output_type": "stream",
     "text": [
      "    support    itemsets\n",
      "0  0.020267   (almonds)\n",
      "1  0.033200   (avocado)\n",
      "2  0.033733  (brownies)\n",
      "3  0.087200   (burgers)\n",
      "4  0.030133    (butter)\n"
     ]
    }
   ],
   "source": [
    "\n",
    "# Step 5: Apply Apriori\n",
    "\n",
    "frequent_itemsets = apriori(basket, min_support=0.02, use_colnames=True)\n",
    "\n",
    "print(frequent_itemsets.head())\n"
   ]
  },
  {
   "cell_type": "code",
   "execution_count": null,
   "id": "a1861738",
   "metadata": {},
   "outputs": [
    {
     "name": "stdout",
     "output_type": "stream",
     "text": [
      "            antecedents      consequents   support  confidence      lift\n",
      "1             (burgers)           (eggs)  0.028800    0.330275  1.837585\n",
      "8                (cake)  (mineral water)  0.027467    0.338816  1.422002\n",
      "10            (chicken)  (mineral water)  0.022800    0.380000  1.594852\n",
      "25          (chocolate)  (mineral water)  0.052667    0.321400  1.348907\n",
      "28        (cooking oil)  (mineral water)  0.020133    0.394256  1.654683\n",
      "53    (frozen smoothie)  (mineral water)  0.020133    0.318565  1.337012\n",
      "57  (frozen vegetables)  (mineral water)  0.035733    0.374825  1.573133\n",
      "65        (ground beef)  (mineral water)  0.040933    0.416554  1.748266\n",
      "67        (ground beef)      (spaghetti)  0.039200    0.398915  2.290857\n",
      "69     (low fat yogurt)  (mineral water)  0.023867    0.312391  1.311098\n"
     ]
    }
   ],
   "source": [
    "\n",
    "# Step 6: Generate Rules\n",
    "\n",
    "rules = association_rules(frequent_itemsets,\n",
    "                          metric=\"lift\",\n",
    "                          min_threshold=1.0)\n",
    "\n",
    "# Apply thresholds\n",
    "rules = rules[(rules['support'] > 0.02) &\n",
    "              (rules['confidence'] > 0.3) &\n",
    "              (rules['lift'] > 1.2)]\n",
    "\n",
    "print(rules[['antecedents','consequents','support','confidence','lift']].head(10))\n"
   ]
  },
  {
   "cell_type": "code",
   "execution_count": null,
   "id": "d4732c1c",
   "metadata": {},
   "outputs": [
    {
     "name": "stdout",
     "output_type": "stream",
     "text": [
      "\n",
      "Top 5 Rules:\n",
      "Rule: ['ground beef'] → ['spaghetti']\n",
      "Support: 0.039, Confidence: 0.399, Lift: 2.291\n",
      "\n",
      "Rule: ['olive oil'] → ['spaghetti']\n",
      "Support: 0.023, Confidence: 0.349, Lift: 2.004\n",
      "\n",
      "Rule: ['soup'] → ['mineral water']\n",
      "Support: 0.023, Confidence: 0.456, Lift: 1.916\n",
      "\n",
      "Rule: ['burgers'] → ['eggs']\n",
      "Support: 0.029, Confidence: 0.330, Lift: 1.838\n",
      "\n",
      "Rule: ['tomatoes'] → ['spaghetti']\n",
      "Support: 0.021, Confidence: 0.306, Lift: 1.758\n",
      "\n"
     ]
    }
   ],
   "source": [
    "\n",
    "# Step 7: Interpret Top Rules\n",
    "\n",
    "rules_sorted = rules.sort_values(by=\"lift\", ascending=False)\n",
    "\n",
    "print(\"\\nTop 5 Rules:\")\n",
    "for i, row in rules_sorted.head(5).iterrows():\n",
    "    print(f\"Rule: {list(row['antecedents'])} → {list(row['consequents'])}\")\n",
    "    print(f\"Support: {row['support']:.3f}, Confidence: {row['confidence']:.3f}, Lift: {row['lift']:.3f}\\n\")\n"
   ]
  },
  {
   "cell_type": "markdown",
   "id": "77f7d2fb",
   "metadata": {},
   "source": [
    "### 1. What is lift and why is it important in Association rules?\n",
    "\n",
    "**Lift**  \n",
    "- Lift measures how much more likely items A and B occur together compared to if they were independent.  \n",
    "- Formula:  \n",
    "  \\[\n",
    "  Lift(A \\rightarrow B) = \\frac{Support(A \\cup B)}{Support(A) \\times Support(B)}\n",
    "  \\]\n",
    "- **Interpretation:**  \n",
    "  - Lift > 1 → A and B are positively correlated (strong rule).  \n",
    "  - Lift = 1 → A and B are independent.  \n",
    "  - Lift < 1 → A and B are negatively correlated.  \n",
    "- **Importance:** It helps identify rules that are not just frequent but also **statistically significant**.  \n",
    "\n",
    "---\n",
    "\n",
    "### 2. What is support and confidence? How do you calculate them?\n",
    "\n",
    "**Support**  \n",
    "- Support tells us how frequently an itemset appears in the dataset.  \n",
    "- Formula:  \n",
    "  \\[\n",
    "  Support(A) = \\frac{\\text{Transactions containing A}}{\\text{Total Transactions}}\n",
    "  \\]\n",
    "- Example: If 200 out of 1000 transactions contain \"milk\", support(milk) = 200/1000 = 0.2 (20%).  \n",
    "\n",
    "**Confidence**  \n",
    "- Confidence measures how often items in B appear in transactions that contain A.  \n",
    "- Formula:  \n",
    "  \\[\n",
    "  Confidence(A \\rightarrow B) = \\frac{Support(A \\cup B)}{Support(A)}\n",
    "  \\]\n",
    "- Example: If 100 out of 200 milk transactions also contain bread, confidence(milk → bread) = 100/200 = 0.5 (50%).  \n",
    "\n",
    "---\n",
    "\n",
    "### 3. What are some limitations or challenges of Association rules mining?\n",
    "\n",
    "1. **Too many rules** – Generates a very large number of rules, many of which are not useful.  \n",
    "2. **Computationally expensive** – Mining can be slow for very large datasets.  \n",
    "3. **Support–Confidence limitations** – High support & confidence do not always mean interesting or useful rules.  \n",
    "4. **Redundancy** – Many rules may convey the same information.  \n",
    "5. **Domain dependency** – Interestingness of rules often depends on domain knowledge.  \n",
    "6. **Scalability** – Performance drops with increasing number of items and transactions.  \n"
   ]
  }
 ],
 "metadata": {
  "kernelspec": {
   "display_name": "Python 3",
   "language": "python",
   "name": "python3"
  },
  "language_info": {
   "codemirror_mode": {
    "name": "ipython",
    "version": 3
   },
   "file_extension": ".py",
   "mimetype": "text/x-python",
   "name": "python",
   "nbconvert_exporter": "python",
   "pygments_lexer": "ipython3",
   "version": "3.10.6"
  }
 },
 "nbformat": 4,
 "nbformat_minor": 5
}
