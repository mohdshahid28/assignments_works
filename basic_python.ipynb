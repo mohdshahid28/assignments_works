{
 "cells": [
  {
   "cell_type": "code",
   "execution_count": null,
   "id": "cb549e1a",
   "metadata": {},
   "outputs": [
    {
     "name": "stdout",
     "output_type": "stream",
     "text": [
      "5 is a prime\n",
      "\n"
     ]
    }
   ],
   "source": [
    "\n",
    "n = int(input(\"enter a number: \"))\n",
    "\n",
    "# Prime numbers are greater than 1\n",
    "if n > 1:\n",
    "    for i in range(2, n):\n",
    "        if n % i == 0:\n",
    "            print(n, \"is not a prime\\n\")\n",
    "            break\n",
    "    else:\n",
    "        print(n, \"is a prime\\n\")\n",
    "else:\n",
    "    print(n, \"is not a prime (prime numbers are greater than 1)\\n\")"
   ]
  },
  {
   "cell_type": "code",
   "execution_count": 5,
   "id": "912db437",
   "metadata": {},
   "outputs": [
    {
     "name": "stdout",
     "output_type": "stream",
     "text": [
      "Correct answer 90\n"
     ]
    }
   ],
   "source": [
    "import random  # To use random numbers\n",
    "\n",
    "a = random.randint(1, 10)  # Get a random number between 1 and 10\n",
    "b = random.randint(1, 10)  # Get another random number between 1 and 10\n",
    "\n",
    "answer = int(input(f'What is the product of {a} X {b}? '))  # Ask the user to enter the answer\n",
    "\n",
    "c = a * b  # Multiply the two numbers\n",
    "\n",
    "if answer == c:  # Check if the user's answer is correct\n",
    "    print('Correct answer', c)  # Show correct message\n",
    "else:\n",
    "    print(\"Your answer is wrong, try again\")  # Show wrong message\n"
   ]
  },
  {
   "cell_type": "code",
   "execution_count": 41,
   "id": "8728147e",
   "metadata": {},
   "outputs": [
    {
     "name": "stdout",
     "output_type": "stream",
     "text": [
      "Square of 100 is 10000\n",
      "Square of 102 is 10404\n",
      "Square of 104 is 10816\n",
      "Square of 106 is 11236\n",
      "Square of 108 is 11664\n",
      "Square of 110 is 12100\n",
      "Square of 112 is 12544\n",
      "Square of 114 is 12996\n",
      "Square of 116 is 13456\n",
      "Square of 118 is 13924\n",
      "Square of 120 is 14400\n",
      "Square of 122 is 14884\n",
      "Square of 124 is 15376\n",
      "Square of 126 is 15876\n",
      "Square of 128 is 16384\n",
      "Square of 130 is 16900\n",
      "Square of 132 is 17424\n",
      "Square of 134 is 17956\n",
      "Square of 136 is 18496\n",
      "Square of 138 is 19044\n",
      "Square of 140 is 19600\n",
      "Square of 142 is 20164\n",
      "Square of 144 is 20736\n",
      "Square of 146 is 21316\n",
      "Square of 148 is 21904\n",
      "Square of 150 is 22500\n",
      "Square of 152 is 23104\n",
      "Square of 154 is 23716\n",
      "Square of 156 is 24336\n",
      "Square of 158 is 24964\n",
      "Square of 160 is 25600\n",
      "Square of 162 is 26244\n",
      "Square of 164 is 26896\n",
      "Square of 166 is 27556\n",
      "Square of 168 is 28224\n",
      "Square of 170 is 28900\n",
      "Square of 172 is 29584\n",
      "Square of 174 is 30276\n",
      "Square of 176 is 30976\n",
      "Square of 178 is 31684\n",
      "Square of 180 is 32400\n",
      "Square of 182 is 33124\n",
      "Square of 184 is 33856\n",
      "Square of 186 is 34596\n",
      "Square of 188 is 35344\n",
      "Square of 190 is 36100\n",
      "Square of 192 is 36864\n",
      "Square of 194 is 37636\n",
      "Square of 196 is 38416\n",
      "Square of 198 is 39204\n",
      "Square of 200 is 40000\n"
     ]
    }
   ],
   "source": [
    "# We are printing squares of even numbers from 100 to 200\n",
    "\n",
    "for num in range(100, 201):  # Loop from 100 to 200 (inclusive)\n",
    "    if num % 2 == 0:  # Check if the number is even\n",
    "        square = num * num  # Calculate square\n",
    "        print(f\"Square of {num} is {square}\")  # Print the square"
   ]
  },
  {
   "cell_type": "code",
   "execution_count": 42,
   "id": "93d807a5",
   "metadata": {},
   "outputs": [
    {
     "name": "stdout",
     "output_type": "stream",
     "text": [
      "'this': 2\n",
      "'is': 1\n",
      "'a': 1\n",
      "'sample': 1\n",
      "'text.': 1\n",
      "'text': 1\n",
      "'will': 1\n",
      "'be': 1\n",
      "'used': 1\n",
      "'to': 1\n",
      "'demonstrate': 1\n",
      "'the': 1\n",
      "'word': 1\n",
      "'counter.': 1\n"
     ]
    }
   ],
   "source": [
    "# Count how many times each word appears in the given text\n",
    "\n",
    "input_text = \"This is a sample text. This text will be used to demonstrate the word counter.\"\n",
    "\n",
    "# Convert text to lowercase to avoid case mismatch (optional)\n",
    "input_text = input_text.lower()\n",
    "\n",
    "# Split the text into words\n",
    "words = input_text.split()\n",
    "\n",
    "# Create an empty dictionary to store word counts\n",
    "word_count = {}\n",
    "\n",
    "# Loop through each word in the list\n",
    "for word in words:\n",
    "    if word in word_count:\n",
    "        word_count[word] += 1  # If word already in dict, increase count\n",
    "    else:\n",
    "        word_count[word] = 1  # If word not in dict, add it with count 1\n",
    "\n",
    "# Print each word and its count\n",
    "for word, count in word_count.items():\n",
    "    print(f\"'{word}': {count}\")\n"
   ]
  },
  {
   "cell_type": "code",
   "execution_count": 6,
   "id": "795f6e34",
   "metadata": {},
   "outputs": [
    {
     "name": "stdout",
     "output_type": "stream",
     "text": [
      "True\n"
     ]
    }
   ],
   "source": [
    "import string  # To help remove punctuation\n",
    "\n",
    "def is_palindrome(text):\n",
    "    # Convert to lowercase\n",
    "    text = text.lower()\n",
    "\n",
    "    # Remove spaces and punctuation\n",
    "    cleaned = ''\n",
    "    for char in text:\n",
    "        if char.isalnum():  # Keep only letters and numbers\n",
    "            cleaned += char\n",
    "\n",
    "    # Check if cleaned text is same as its reverse\n",
    "    return cleaned == cleaned[::-1]\n",
    "\n",
    "# Example usage\n",
    "input_text = \"A man a plan a canal Panama\"\n",
    "print(is_palindrome(input_text))  # Output: True\n"
   ]
  },
  {
   "cell_type": "code",
   "execution_count": 6,
   "id": "39de5819",
   "metadata": {},
   "outputs": [
    {
     "name": "stdout",
     "output_type": "stream",
     "text": [
      "True\n"
     ]
    }
   ],
   "source": [
    "import string  # To help remove punctuation\n",
    "\n",
    "def is_palindrome(text):\n",
    "    # Convert to lowercase\n",
    "    text = text.lower()\n",
    "\n",
    "    # Remove spaces and punctuation\n",
    "    cleaned = ''\n",
    "    for char in text:\n",
    "        if char.isalnum():  # Keep only letters and numbers\n",
    "            cleaned += char\n",
    "\n",
    "    # Check if cleaned text is same as its reverse\n",
    "    return cleaned == cleaned[::-1]\n",
    "\n",
    "# Example usage\n",
    "input_text = \"racecar\"\n",
    "print(is_palindrome(input_text))  # Output: True\n"
   ]
  }
 ],
 "metadata": {
  "kernelspec": {
   "display_name": "Python 3",
   "language": "python",
   "name": "python3"
  },
  "language_info": {
   "codemirror_mode": {
    "name": "ipython",
    "version": 3
   },
   "file_extension": ".py",
   "mimetype": "text/x-python",
   "name": "python",
   "nbconvert_exporter": "python",
   "pygments_lexer": "ipython3",
   "version": "3.13.5"
  }
 },
 "nbformat": 4,
 "nbformat_minor": 5
}
