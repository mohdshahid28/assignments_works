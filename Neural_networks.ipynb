{
 "cells": [
  {
   "cell_type": "code",
   "execution_count": null,
   "id": "c2e08210",
   "metadata": {},
   "outputs": [],
   "source": [
    "# import libraries\n",
    "import numpy as np\n",
    "import pandas as pd\n",
    "import os\n",
    "import matplotlib.pyplot as plt\n",
    "from sklearn.model_selection import train_test_split, RandomizedSearchCV\n",
    "from sklearn.preprocessing import StandardScaler, LabelEncoder\n",
    "from sklearn.metrics import classification_report, confusion_matrix, accuracy_score\n",
    "import tensorflow as tf\n",
    "from tensorflow.keras.models import Sequential\n",
    "from tensorflow.keras.layers import Dense, Dropout\n",
    "from scikeras.wrappers import KerasClassifier\n"
   ]
  },
  {
   "cell_type": "code",
   "execution_count": null,
   "id": "3d4c06a8",
   "metadata": {},
   "outputs": [
    {
     "name": "stdout",
     "output_type": "stream",
     "text": [
      "Dataset loaded from Alphabets_data.csv\n",
      "Shape: (20000, 17)\n"
     ]
    },
    {
     "data": {
      "text/html": [
       "<div>\n",
       "<style scoped>\n",
       "    .dataframe tbody tr th:only-of-type {\n",
       "        vertical-align: middle;\n",
       "    }\n",
       "\n",
       "    .dataframe tbody tr th {\n",
       "        vertical-align: top;\n",
       "    }\n",
       "\n",
       "    .dataframe thead th {\n",
       "        text-align: right;\n",
       "    }\n",
       "</style>\n",
       "<table border=\"1\" class=\"dataframe\">\n",
       "  <thead>\n",
       "    <tr style=\"text-align: right;\">\n",
       "      <th></th>\n",
       "      <th>letter</th>\n",
       "      <th>xbox</th>\n",
       "      <th>ybox</th>\n",
       "      <th>width</th>\n",
       "      <th>height</th>\n",
       "      <th>onpix</th>\n",
       "      <th>xbar</th>\n",
       "      <th>ybar</th>\n",
       "      <th>x2bar</th>\n",
       "      <th>y2bar</th>\n",
       "      <th>xybar</th>\n",
       "      <th>x2ybar</th>\n",
       "      <th>xy2bar</th>\n",
       "      <th>xedge</th>\n",
       "      <th>xedgey</th>\n",
       "      <th>yedge</th>\n",
       "      <th>yedgex</th>\n",
       "    </tr>\n",
       "  </thead>\n",
       "  <tbody>\n",
       "    <tr>\n",
       "      <th>0</th>\n",
       "      <td>T</td>\n",
       "      <td>2</td>\n",
       "      <td>8</td>\n",
       "      <td>3</td>\n",
       "      <td>5</td>\n",
       "      <td>1</td>\n",
       "      <td>8</td>\n",
       "      <td>13</td>\n",
       "      <td>0</td>\n",
       "      <td>6</td>\n",
       "      <td>6</td>\n",
       "      <td>10</td>\n",
       "      <td>8</td>\n",
       "      <td>0</td>\n",
       "      <td>8</td>\n",
       "      <td>0</td>\n",
       "      <td>8</td>\n",
       "    </tr>\n",
       "    <tr>\n",
       "      <th>1</th>\n",
       "      <td>I</td>\n",
       "      <td>5</td>\n",
       "      <td>12</td>\n",
       "      <td>3</td>\n",
       "      <td>7</td>\n",
       "      <td>2</td>\n",
       "      <td>10</td>\n",
       "      <td>5</td>\n",
       "      <td>5</td>\n",
       "      <td>4</td>\n",
       "      <td>13</td>\n",
       "      <td>3</td>\n",
       "      <td>9</td>\n",
       "      <td>2</td>\n",
       "      <td>8</td>\n",
       "      <td>4</td>\n",
       "      <td>10</td>\n",
       "    </tr>\n",
       "    <tr>\n",
       "      <th>2</th>\n",
       "      <td>D</td>\n",
       "      <td>4</td>\n",
       "      <td>11</td>\n",
       "      <td>6</td>\n",
       "      <td>8</td>\n",
       "      <td>6</td>\n",
       "      <td>10</td>\n",
       "      <td>6</td>\n",
       "      <td>2</td>\n",
       "      <td>6</td>\n",
       "      <td>10</td>\n",
       "      <td>3</td>\n",
       "      <td>7</td>\n",
       "      <td>3</td>\n",
       "      <td>7</td>\n",
       "      <td>3</td>\n",
       "      <td>9</td>\n",
       "    </tr>\n",
       "    <tr>\n",
       "      <th>3</th>\n",
       "      <td>N</td>\n",
       "      <td>7</td>\n",
       "      <td>11</td>\n",
       "      <td>6</td>\n",
       "      <td>6</td>\n",
       "      <td>3</td>\n",
       "      <td>5</td>\n",
       "      <td>9</td>\n",
       "      <td>4</td>\n",
       "      <td>6</td>\n",
       "      <td>4</td>\n",
       "      <td>4</td>\n",
       "      <td>10</td>\n",
       "      <td>6</td>\n",
       "      <td>10</td>\n",
       "      <td>2</td>\n",
       "      <td>8</td>\n",
       "    </tr>\n",
       "    <tr>\n",
       "      <th>4</th>\n",
       "      <td>G</td>\n",
       "      <td>2</td>\n",
       "      <td>1</td>\n",
       "      <td>3</td>\n",
       "      <td>1</td>\n",
       "      <td>1</td>\n",
       "      <td>8</td>\n",
       "      <td>6</td>\n",
       "      <td>6</td>\n",
       "      <td>6</td>\n",
       "      <td>6</td>\n",
       "      <td>5</td>\n",
       "      <td>9</td>\n",
       "      <td>1</td>\n",
       "      <td>7</td>\n",
       "      <td>5</td>\n",
       "      <td>10</td>\n",
       "    </tr>\n",
       "  </tbody>\n",
       "</table>\n",
       "</div>"
      ],
      "text/plain": [
       "  letter  xbox  ybox  width  height  onpix  xbar  ybar  x2bar  y2bar  xybar  \\\n",
       "0      T     2     8      3       5      1     8    13      0      6      6   \n",
       "1      I     5    12      3       7      2    10     5      5      4     13   \n",
       "2      D     4    11      6       8      6    10     6      2      6     10   \n",
       "3      N     7    11      6       6      3     5     9      4      6      4   \n",
       "4      G     2     1      3       1      1     8     6      6      6      6   \n",
       "\n",
       "   x2ybar  xy2bar  xedge  xedgey  yedge  yedgex  \n",
       "0      10       8      0       8      0       8  \n",
       "1       3       9      2       8      4      10  \n",
       "2       3       7      3       7      3       9  \n",
       "3       4      10      6      10      2       8  \n",
       "4       5       9      1       7      5      10  "
      ]
     },
     "execution_count": 2,
     "metadata": {},
     "output_type": "execute_result"
    }
   ],
   "source": [
    "#load dataset\n",
    "DATA_PATH = 'Alphabets_data.csv'\n",
    "df = pd.read_csv(DATA_PATH)\n",
    "print('Shape:', df.shape)\n",
    "df.head()"
   ]
  },
  {
   "cell_type": "code",
   "execution_count": 3,
   "id": "a3131d94",
   "metadata": {},
   "outputs": [
    {
     "name": "stdout",
     "output_type": "stream",
     "text": [
      "<class 'pandas.core.frame.DataFrame'>\n",
      "RangeIndex: 20000 entries, 0 to 19999\n",
      "Data columns (total 17 columns):\n",
      " #   Column  Non-Null Count  Dtype \n",
      "---  ------  --------------  ----- \n",
      " 0   letter  20000 non-null  object\n",
      " 1   xbox    20000 non-null  int64 \n",
      " 2   ybox    20000 non-null  int64 \n",
      " 3   width   20000 non-null  int64 \n",
      " 4   height  20000 non-null  int64 \n",
      " 5   onpix   20000 non-null  int64 \n",
      " 6   xbar    20000 non-null  int64 \n",
      " 7   ybar    20000 non-null  int64 \n",
      " 8   x2bar   20000 non-null  int64 \n",
      " 9   y2bar   20000 non-null  int64 \n",
      " 10  xybar   20000 non-null  int64 \n",
      " 11  x2ybar  20000 non-null  int64 \n",
      " 12  xy2bar  20000 non-null  int64 \n",
      " 13  xedge   20000 non-null  int64 \n",
      " 14  xedgey  20000 non-null  int64 \n",
      " 15  yedge   20000 non-null  int64 \n",
      " 16  yedgex  20000 non-null  int64 \n",
      "dtypes: int64(16), object(1)\n",
      "memory usage: 2.6+ MB\n"
     ]
    }
   ],
   "source": [
    "df.info()"
   ]
  },
  {
   "cell_type": "code",
   "execution_count": 4,
   "id": "4bc8226b",
   "metadata": {},
   "outputs": [
    {
     "data": {
      "text/html": [
       "<div>\n",
       "<style scoped>\n",
       "    .dataframe tbody tr th:only-of-type {\n",
       "        vertical-align: middle;\n",
       "    }\n",
       "\n",
       "    .dataframe tbody tr th {\n",
       "        vertical-align: top;\n",
       "    }\n",
       "\n",
       "    .dataframe thead th {\n",
       "        text-align: right;\n",
       "    }\n",
       "</style>\n",
       "<table border=\"1\" class=\"dataframe\">\n",
       "  <thead>\n",
       "    <tr style=\"text-align: right;\">\n",
       "      <th></th>\n",
       "      <th>count</th>\n",
       "      <th>mean</th>\n",
       "      <th>std</th>\n",
       "      <th>min</th>\n",
       "      <th>25%</th>\n",
       "      <th>50%</th>\n",
       "      <th>75%</th>\n",
       "      <th>max</th>\n",
       "    </tr>\n",
       "  </thead>\n",
       "  <tbody>\n",
       "    <tr>\n",
       "      <th>xbox</th>\n",
       "      <td>20000.0</td>\n",
       "      <td>4.02355</td>\n",
       "      <td>1.913212</td>\n",
       "      <td>0.0</td>\n",
       "      <td>3.0</td>\n",
       "      <td>4.0</td>\n",
       "      <td>5.0</td>\n",
       "      <td>15.0</td>\n",
       "    </tr>\n",
       "    <tr>\n",
       "      <th>ybox</th>\n",
       "      <td>20000.0</td>\n",
       "      <td>7.03550</td>\n",
       "      <td>3.304555</td>\n",
       "      <td>0.0</td>\n",
       "      <td>5.0</td>\n",
       "      <td>7.0</td>\n",
       "      <td>9.0</td>\n",
       "      <td>15.0</td>\n",
       "    </tr>\n",
       "    <tr>\n",
       "      <th>width</th>\n",
       "      <td>20000.0</td>\n",
       "      <td>5.12185</td>\n",
       "      <td>2.014573</td>\n",
       "      <td>0.0</td>\n",
       "      <td>4.0</td>\n",
       "      <td>5.0</td>\n",
       "      <td>6.0</td>\n",
       "      <td>15.0</td>\n",
       "    </tr>\n",
       "    <tr>\n",
       "      <th>height</th>\n",
       "      <td>20000.0</td>\n",
       "      <td>5.37245</td>\n",
       "      <td>2.261390</td>\n",
       "      <td>0.0</td>\n",
       "      <td>4.0</td>\n",
       "      <td>6.0</td>\n",
       "      <td>7.0</td>\n",
       "      <td>15.0</td>\n",
       "    </tr>\n",
       "    <tr>\n",
       "      <th>onpix</th>\n",
       "      <td>20000.0</td>\n",
       "      <td>3.50585</td>\n",
       "      <td>2.190458</td>\n",
       "      <td>0.0</td>\n",
       "      <td>2.0</td>\n",
       "      <td>3.0</td>\n",
       "      <td>5.0</td>\n",
       "      <td>15.0</td>\n",
       "    </tr>\n",
       "    <tr>\n",
       "      <th>xbar</th>\n",
       "      <td>20000.0</td>\n",
       "      <td>6.89760</td>\n",
       "      <td>2.026035</td>\n",
       "      <td>0.0</td>\n",
       "      <td>6.0</td>\n",
       "      <td>7.0</td>\n",
       "      <td>8.0</td>\n",
       "      <td>15.0</td>\n",
       "    </tr>\n",
       "    <tr>\n",
       "      <th>ybar</th>\n",
       "      <td>20000.0</td>\n",
       "      <td>7.50045</td>\n",
       "      <td>2.325354</td>\n",
       "      <td>0.0</td>\n",
       "      <td>6.0</td>\n",
       "      <td>7.0</td>\n",
       "      <td>9.0</td>\n",
       "      <td>15.0</td>\n",
       "    </tr>\n",
       "    <tr>\n",
       "      <th>x2bar</th>\n",
       "      <td>20000.0</td>\n",
       "      <td>4.62860</td>\n",
       "      <td>2.699968</td>\n",
       "      <td>0.0</td>\n",
       "      <td>3.0</td>\n",
       "      <td>4.0</td>\n",
       "      <td>6.0</td>\n",
       "      <td>15.0</td>\n",
       "    </tr>\n",
       "    <tr>\n",
       "      <th>y2bar</th>\n",
       "      <td>20000.0</td>\n",
       "      <td>5.17865</td>\n",
       "      <td>2.380823</td>\n",
       "      <td>0.0</td>\n",
       "      <td>4.0</td>\n",
       "      <td>5.0</td>\n",
       "      <td>7.0</td>\n",
       "      <td>15.0</td>\n",
       "    </tr>\n",
       "    <tr>\n",
       "      <th>xybar</th>\n",
       "      <td>20000.0</td>\n",
       "      <td>8.28205</td>\n",
       "      <td>2.488475</td>\n",
       "      <td>0.0</td>\n",
       "      <td>7.0</td>\n",
       "      <td>8.0</td>\n",
       "      <td>10.0</td>\n",
       "      <td>15.0</td>\n",
       "    </tr>\n",
       "    <tr>\n",
       "      <th>x2ybar</th>\n",
       "      <td>20000.0</td>\n",
       "      <td>6.45400</td>\n",
       "      <td>2.631070</td>\n",
       "      <td>0.0</td>\n",
       "      <td>5.0</td>\n",
       "      <td>6.0</td>\n",
       "      <td>8.0</td>\n",
       "      <td>15.0</td>\n",
       "    </tr>\n",
       "    <tr>\n",
       "      <th>xy2bar</th>\n",
       "      <td>20000.0</td>\n",
       "      <td>7.92900</td>\n",
       "      <td>2.080619</td>\n",
       "      <td>0.0</td>\n",
       "      <td>7.0</td>\n",
       "      <td>8.0</td>\n",
       "      <td>9.0</td>\n",
       "      <td>15.0</td>\n",
       "    </tr>\n",
       "    <tr>\n",
       "      <th>xedge</th>\n",
       "      <td>20000.0</td>\n",
       "      <td>3.04610</td>\n",
       "      <td>2.332541</td>\n",
       "      <td>0.0</td>\n",
       "      <td>1.0</td>\n",
       "      <td>3.0</td>\n",
       "      <td>4.0</td>\n",
       "      <td>15.0</td>\n",
       "    </tr>\n",
       "    <tr>\n",
       "      <th>xedgey</th>\n",
       "      <td>20000.0</td>\n",
       "      <td>8.33885</td>\n",
       "      <td>1.546722</td>\n",
       "      <td>0.0</td>\n",
       "      <td>8.0</td>\n",
       "      <td>8.0</td>\n",
       "      <td>9.0</td>\n",
       "      <td>15.0</td>\n",
       "    </tr>\n",
       "    <tr>\n",
       "      <th>yedge</th>\n",
       "      <td>20000.0</td>\n",
       "      <td>3.69175</td>\n",
       "      <td>2.567073</td>\n",
       "      <td>0.0</td>\n",
       "      <td>2.0</td>\n",
       "      <td>3.0</td>\n",
       "      <td>5.0</td>\n",
       "      <td>15.0</td>\n",
       "    </tr>\n",
       "    <tr>\n",
       "      <th>yedgex</th>\n",
       "      <td>20000.0</td>\n",
       "      <td>7.80120</td>\n",
       "      <td>1.617470</td>\n",
       "      <td>0.0</td>\n",
       "      <td>7.0</td>\n",
       "      <td>8.0</td>\n",
       "      <td>9.0</td>\n",
       "      <td>15.0</td>\n",
       "    </tr>\n",
       "  </tbody>\n",
       "</table>\n",
       "</div>"
      ],
      "text/plain": [
       "          count     mean       std  min  25%  50%   75%   max\n",
       "xbox    20000.0  4.02355  1.913212  0.0  3.0  4.0   5.0  15.0\n",
       "ybox    20000.0  7.03550  3.304555  0.0  5.0  7.0   9.0  15.0\n",
       "width   20000.0  5.12185  2.014573  0.0  4.0  5.0   6.0  15.0\n",
       "height  20000.0  5.37245  2.261390  0.0  4.0  6.0   7.0  15.0\n",
       "onpix   20000.0  3.50585  2.190458  0.0  2.0  3.0   5.0  15.0\n",
       "xbar    20000.0  6.89760  2.026035  0.0  6.0  7.0   8.0  15.0\n",
       "ybar    20000.0  7.50045  2.325354  0.0  6.0  7.0   9.0  15.0\n",
       "x2bar   20000.0  4.62860  2.699968  0.0  3.0  4.0   6.0  15.0\n",
       "y2bar   20000.0  5.17865  2.380823  0.0  4.0  5.0   7.0  15.0\n",
       "xybar   20000.0  8.28205  2.488475  0.0  7.0  8.0  10.0  15.0\n",
       "x2ybar  20000.0  6.45400  2.631070  0.0  5.0  6.0   8.0  15.0\n",
       "xy2bar  20000.0  7.92900  2.080619  0.0  7.0  8.0   9.0  15.0\n",
       "xedge   20000.0  3.04610  2.332541  0.0  1.0  3.0   4.0  15.0\n",
       "xedgey  20000.0  8.33885  1.546722  0.0  8.0  8.0   9.0  15.0\n",
       "yedge   20000.0  3.69175  2.567073  0.0  2.0  3.0   5.0  15.0\n",
       "yedgex  20000.0  7.80120  1.617470  0.0  7.0  8.0   9.0  15.0"
      ]
     },
     "execution_count": 4,
     "metadata": {},
     "output_type": "execute_result"
    }
   ],
   "source": [
    "df.describe().T"
   ]
  },
  {
   "cell_type": "code",
   "execution_count": null,
   "id": "8869db1b",
   "metadata": {},
   "outputs": [
    {
     "data": {
      "text/plain": [
       "letter    0\n",
       "xbox      0\n",
       "ybox      0\n",
       "width     0\n",
       "height    0\n",
       "onpix     0\n",
       "xbar      0\n",
       "ybar      0\n",
       "x2bar     0\n",
       "y2bar     0\n",
       "xybar     0\n",
       "x2ybar    0\n",
       "xy2bar    0\n",
       "xedge     0\n",
       "xedgey    0\n",
       "yedge     0\n",
       "yedgex    0\n",
       "dtype: int64"
      ]
     },
     "execution_count": 5,
     "metadata": {},
     "output_type": "execute_result"
    }
   ],
   "source": [
    "#find missing value\n",
    "df.isna().sum()"
   ]
  },
  {
   "cell_type": "code",
   "execution_count": null,
   "id": "d35feed5",
   "metadata": {},
   "outputs": [],
   "source": [
    "from sklearn.preprocessing import LabelEncoder   # LabelEncoder import\n",
    "\n",
    "encoder = LabelEncoder()   # Encoder object create\n",
    "\n",
    "df['letter_encoded'] = encoder.fit_transform(df['letter'])  # 'letter' ko numbers me convert karke naya column banaya\n",
    "\n",
    "print(df[['letter', 'letter_encoded']].head())  # First 5 rows print\n"
   ]
  },
  {
   "cell_type": "code",
   "execution_count": 7,
   "id": "d2cf4d2d",
   "metadata": {},
   "outputs": [
    {
     "name": "stdout",
     "output_type": "stream",
     "text": [
      "   xbox  ybox  width  height  onpix  xbar  ybar  x2bar  y2bar  xybar  x2ybar  \\\n",
      "0     2     8      3       5      1     8    13      0      6      6      10   \n",
      "1     5    12      3       7      2    10     5      5      4     13       3   \n",
      "2     4    11      6       8      6    10     6      2      6     10       3   \n",
      "3     7    11      6       6      3     5     9      4      6      4       4   \n",
      "4     2     1      3       1      1     8     6      6      6      6       5   \n",
      "\n",
      "   xy2bar  xedge  xedgey  yedge  yedgex  letter_encoded  \n",
      "0       8      0       8      0       8              19  \n",
      "1       9      2       8      4      10               8  \n",
      "2       7      3       7      3       9               3  \n",
      "3      10      6      10      2       8              13  \n",
      "4       9      1       7      5      10               6  \n"
     ]
    }
   ],
   "source": [
    "\n",
    "df = df.drop(columns=['letter'])\n",
    "\n",
    "print(df.head())\n"
   ]
  },
  {
   "cell_type": "code",
   "execution_count": null,
   "id": "ecd59398",
   "metadata": {},
   "outputs": [
    {
     "name": "stdout",
     "output_type": "stream",
     "text": [
      "Chosen label column: letter_encoded\n",
      "letter_encoded\n",
      "20    813\n",
      "3     805\n",
      "15    803\n",
      "19    796\n",
      "12    792\n",
      "0     789\n",
      "23    787\n",
      "24    786\n",
      "13    783\n",
      "16    783\n",
      "5     775\n",
      "6     773\n",
      "4     768\n",
      "1     766\n",
      "21    764\n",
      "11    761\n",
      "17    758\n",
      "8     755\n",
      "14    753\n",
      "22    752\n",
      "18    748\n",
      "9     747\n",
      "10    739\n",
      "2     736\n",
      "7     734\n",
      "25    734\n",
      "Name: count, dtype: int64\n"
     ]
    }
   ],
   "source": [
    "label_col = None   # Variable to store the label column name\n",
    "\n",
    "# Check common label column names and pick the first match\n",
    "for cand in ['label', 'Label', 'class', 'Class', 'target', 'Target']:\n",
    "    if cand in df.columns:\n",
    "        label_col = cand\n",
    "        break\n",
    "\n",
    "# If no common name found, take the last column as label\n",
    "if label_col is None:\n",
    "    last = df.columns[-1]\n",
    "    label_col = last\n",
    "\n",
    "print('Chosen label column:', label_col)   # Print the chosen label column\n",
    "print(df[label_col].value_counts())        # Print class distribution in label column\n"
   ]
  },
  {
   "cell_type": "code",
   "execution_count": null,
   "id": "8e767fd6",
   "metadata": {},
   "outputs": [],
   "source": [
    "#selecting target colunm and features colunm\n",
    "X = df.drop(columns=[label_col])\n",
    "y = df[label_col].copy()"
   ]
  },
  {
   "cell_type": "code",
   "execution_count": null,
   "id": "b1e5242d",
   "metadata": {},
   "outputs": [
    {
     "name": "stdout",
     "output_type": "stream",
     "text": [
      "Encoded numeric labels. Classes: [ 0  1  2  3  4  5  6  7  8  9 10 11 12 13 14 15 16 17 18 19 20 21 22 23\n",
      " 24 25]\n",
      "X_final shape: (20000, 16)\n",
      "y_final shape: (20000,)\n"
     ]
    }
   ],
   "source": [
    "# Encode target variable if categorical or categorical-like numeric\n",
    "if y.dtype == 'object' or y.dtype.name == 'category':\n",
    "    le = LabelEncoder()\n",
    "    y_enc = le.fit_transform(y)\n",
    "    print('Classes:', list(le.classes_))\n",
    "else:\n",
    "    try:\n",
    "        unique_ratio = len(np.unique(y)) / len(y)\n",
    "        if unique_ratio < 0.1 and len(np.unique(y)) < 50:\n",
    "            le = LabelEncoder()\n",
    "            y_enc = le.fit_transform(y)\n",
    "            print('Encoded numeric labels. Classes:', np.unique(y_enc))\n",
    "        else:\n",
    "            y_enc = y.values\n",
    "            le = None\n",
    "    except Exception:\n",
    "        y_enc = y.values\n",
    "        le = None\n",
    "\n",
    "# Handle missing values (numeric → median, categorical → mode)\n",
    "for c in X.columns:\n",
    "    if X[c].dtype.kind in 'biufc':\n",
    "        if X[c].isna().sum()>0:\n",
    "            X[c] = X[c].fillna(X[c].median())\n",
    "    else:\n",
    "        if X[c].isna().sum()>0:\n",
    "            X[c] = X[c].fillna(X[c].mode().iloc[0])\n",
    "\n",
    "# Standardize features for model training\n",
    "scaler = StandardScaler()\n",
    "X_scaled = scaler.fit_transform(X)\n",
    "\n",
    "# Final processed features and labels\n",
    "X_final = X_scaled\n",
    "y_final = y_enc\n",
    "\n",
    "print('X_final shape:', X_final.shape)   # Final feature matrix shape\n",
    "print('y_final shape:', y_final.shape)   # Final label vector shape\n"
   ]
  },
  {
   "cell_type": "code",
   "execution_count": null,
   "id": "e35d2d3b",
   "metadata": {},
   "outputs": [
    {
     "name": "stdout",
     "output_type": "stream",
     "text": [
      "Train shape: (16000, 16) Test shape: (4000, 16)\n"
     ]
    }
   ],
   "source": [
    "#train_test_split for training and testing\n",
    "\n",
    "from sklearn.model_selection import train_test_split\n",
    "X_train, X_test, y_train, y_test = train_test_split(X_final, y_final, test_size=0.2, random_state=42, stratify=y_final)\n",
    "print('Train shape:', X_train.shape, 'Test shape:', X_test.shape)"
   ]
  },
  {
   "cell_type": "code",
   "execution_count": null,
   "id": "50e14b15",
   "metadata": {},
   "outputs": [
    {
     "name": "stdout",
     "output_type": "stream",
     "text": [
      "Num features: 16 Num classes: 26\n"
     ]
    },
    {
     "name": "stderr",
     "output_type": "stream",
     "text": [
      "c:\\Users\\mohds\\AppData\\Local\\Programs\\Python\\Python310\\lib\\site-packages\\keras\\src\\layers\\core\\dense.py:92: UserWarning: Do not pass an `input_shape`/`input_dim` argument to a layer. When using Sequential models, prefer using an `Input(shape)` object as the first layer in the model instead.\n",
      "  super().__init__(activity_regularizer=activity_regularizer, **kwargs)\n"
     ]
    },
    {
     "data": {
      "text/html": [
       "<pre style=\"white-space:pre;overflow-x:auto;line-height:normal;font-family:Menlo,'DejaVu Sans Mono',consolas,'Courier New',monospace\"><span style=\"font-weight: bold\">Model: \"sequential\"</span>\n",
       "</pre>\n"
      ],
      "text/plain": [
       "\u001b[1mModel: \"sequential\"\u001b[0m\n"
      ]
     },
     "metadata": {},
     "output_type": "display_data"
    },
    {
     "data": {
      "text/html": [
       "<pre style=\"white-space:pre;overflow-x:auto;line-height:normal;font-family:Menlo,'DejaVu Sans Mono',consolas,'Courier New',monospace\">┏━━━━━━━━━━━━━━━━━━━━━━━━━━━━━━━━━┳━━━━━━━━━━━━━━━━━━━━━━━━┳━━━━━━━━━━━━━━━┓\n",
       "┃<span style=\"font-weight: bold\"> Layer (type)                    </span>┃<span style=\"font-weight: bold\"> Output Shape           </span>┃<span style=\"font-weight: bold\">       Param # </span>┃\n",
       "┡━━━━━━━━━━━━━━━━━━━━━━━━━━━━━━━━━╇━━━━━━━━━━━━━━━━━━━━━━━━╇━━━━━━━━━━━━━━━┩\n",
       "│ dense (<span style=\"color: #0087ff; text-decoration-color: #0087ff\">Dense</span>)                   │ (<span style=\"color: #00d7ff; text-decoration-color: #00d7ff\">None</span>, <span style=\"color: #00af00; text-decoration-color: #00af00\">64</span>)             │         <span style=\"color: #00af00; text-decoration-color: #00af00\">1,088</span> │\n",
       "├─────────────────────────────────┼────────────────────────┼───────────────┤\n",
       "│ dense_1 (<span style=\"color: #0087ff; text-decoration-color: #0087ff\">Dense</span>)                 │ (<span style=\"color: #00d7ff; text-decoration-color: #00d7ff\">None</span>, <span style=\"color: #00af00; text-decoration-color: #00af00\">32</span>)             │         <span style=\"color: #00af00; text-decoration-color: #00af00\">2,080</span> │\n",
       "├─────────────────────────────────┼────────────────────────┼───────────────┤\n",
       "│ dense_2 (<span style=\"color: #0087ff; text-decoration-color: #0087ff\">Dense</span>)                 │ (<span style=\"color: #00d7ff; text-decoration-color: #00d7ff\">None</span>, <span style=\"color: #00af00; text-decoration-color: #00af00\">26</span>)             │           <span style=\"color: #00af00; text-decoration-color: #00af00\">858</span> │\n",
       "└─────────────────────────────────┴────────────────────────┴───────────────┘\n",
       "</pre>\n"
      ],
      "text/plain": [
       "┏━━━━━━━━━━━━━━━━━━━━━━━━━━━━━━━━━┳━━━━━━━━━━━━━━━━━━━━━━━━┳━━━━━━━━━━━━━━━┓\n",
       "┃\u001b[1m \u001b[0m\u001b[1mLayer (type)                   \u001b[0m\u001b[1m \u001b[0m┃\u001b[1m \u001b[0m\u001b[1mOutput Shape          \u001b[0m\u001b[1m \u001b[0m┃\u001b[1m \u001b[0m\u001b[1m      Param #\u001b[0m\u001b[1m \u001b[0m┃\n",
       "┡━━━━━━━━━━━━━━━━━━━━━━━━━━━━━━━━━╇━━━━━━━━━━━━━━━━━━━━━━━━╇━━━━━━━━━━━━━━━┩\n",
       "│ dense (\u001b[38;5;33mDense\u001b[0m)                   │ (\u001b[38;5;45mNone\u001b[0m, \u001b[38;5;34m64\u001b[0m)             │         \u001b[38;5;34m1,088\u001b[0m │\n",
       "├─────────────────────────────────┼────────────────────────┼───────────────┤\n",
       "│ dense_1 (\u001b[38;5;33mDense\u001b[0m)                 │ (\u001b[38;5;45mNone\u001b[0m, \u001b[38;5;34m32\u001b[0m)             │         \u001b[38;5;34m2,080\u001b[0m │\n",
       "├─────────────────────────────────┼────────────────────────┼───────────────┤\n",
       "│ dense_2 (\u001b[38;5;33mDense\u001b[0m)                 │ (\u001b[38;5;45mNone\u001b[0m, \u001b[38;5;34m26\u001b[0m)             │           \u001b[38;5;34m858\u001b[0m │\n",
       "└─────────────────────────────────┴────────────────────────┴───────────────┘\n"
      ]
     },
     "metadata": {},
     "output_type": "display_data"
    },
    {
     "data": {
      "text/html": [
       "<pre style=\"white-space:pre;overflow-x:auto;line-height:normal;font-family:Menlo,'DejaVu Sans Mono',consolas,'Courier New',monospace\"><span style=\"font-weight: bold\"> Total params: </span><span style=\"color: #00af00; text-decoration-color: #00af00\">4,026</span> (15.73 KB)\n",
       "</pre>\n"
      ],
      "text/plain": [
       "\u001b[1m Total params: \u001b[0m\u001b[38;5;34m4,026\u001b[0m (15.73 KB)\n"
      ]
     },
     "metadata": {},
     "output_type": "display_data"
    },
    {
     "data": {
      "text/html": [
       "<pre style=\"white-space:pre;overflow-x:auto;line-height:normal;font-family:Menlo,'DejaVu Sans Mono',consolas,'Courier New',monospace\"><span style=\"font-weight: bold\"> Trainable params: </span><span style=\"color: #00af00; text-decoration-color: #00af00\">4,026</span> (15.73 KB)\n",
       "</pre>\n"
      ],
      "text/plain": [
       "\u001b[1m Trainable params: \u001b[0m\u001b[38;5;34m4,026\u001b[0m (15.73 KB)\n"
      ]
     },
     "metadata": {},
     "output_type": "display_data"
    },
    {
     "data": {
      "text/html": [
       "<pre style=\"white-space:pre;overflow-x:auto;line-height:normal;font-family:Menlo,'DejaVu Sans Mono',consolas,'Courier New',monospace\"><span style=\"font-weight: bold\"> Non-trainable params: </span><span style=\"color: #00af00; text-decoration-color: #00af00\">0</span> (0.00 B)\n",
       "</pre>\n"
      ],
      "text/plain": [
       "\u001b[1m Non-trainable params: \u001b[0m\u001b[38;5;34m0\u001b[0m (0.00 B)\n"
      ]
     },
     "metadata": {},
     "output_type": "display_data"
    }
   ],
   "source": [
    "# Get number of features and number of classes from training data\n",
    "num_features = X_train.shape[1]\n",
    "num_classes = len(np.unique(y_train))\n",
    "print('Num features:', num_features, 'Num classes:', num_classes)\n",
    "\n",
    "# Function to create a baseline neural network model\n",
    "def create_baseline_model():\n",
    "    model = Sequential()\n",
    "    model.add(Dense(64, input_dim=num_features, activation='relu'))   # First hidden layer\n",
    "    model.add(Dense(32, activation='relu'))                           # Second hidden layer\n",
    "    \n",
    "    # Output layer depends on classification type\n",
    "    if num_classes > 2:\n",
    "        model.add(Dense(num_classes, activation='softmax'))           # Multi-class classification\n",
    "        loss = 'sparse_categorical_crossentropy'\n",
    "    else:\n",
    "        model.add(Dense(1, activation='sigmoid'))                     # Binary classification\n",
    "        loss = 'binary_crossentropy'\n",
    "    \n",
    "    # Compile model with Adam optimizer and accuracy metric\n",
    "    model.compile(optimizer='adam', loss=loss, metrics=['accuracy'])\n",
    "    return model\n",
    "\n",
    "# Build and summarize the baseline model\n",
    "baseline = create_baseline_model()\n",
    "baseline.summary()\n"
   ]
  },
  {
   "cell_type": "code",
   "execution_count": null,
   "id": "4f72839d",
   "metadata": {},
   "outputs": [
    {
     "name": "stdout",
     "output_type": "stream",
     "text": [
      "Epoch 1/20\n",
      "450/450 - 2s - 4ms/step - accuracy: 0.5019 - loss: 1.8432 - val_accuracy: 0.6981 - val_loss: 1.0829\n",
      "Epoch 2/20\n",
      "450/450 - 1s - 2ms/step - accuracy: 0.7369 - loss: 0.9125 - val_accuracy: 0.7688 - val_loss: 0.7963\n",
      "Epoch 3/20\n",
      "450/450 - 1s - 2ms/step - accuracy: 0.7917 - loss: 0.7147 - val_accuracy: 0.8112 - val_loss: 0.6568\n",
      "Epoch 4/20\n",
      "450/450 - 1s - 2ms/step - accuracy: 0.8229 - loss: 0.6078 - val_accuracy: 0.8369 - val_loss: 0.5754\n",
      "Epoch 5/20\n",
      "450/450 - 1s - 2ms/step - accuracy: 0.8457 - loss: 0.5328 - val_accuracy: 0.8581 - val_loss: 0.5166\n",
      "Epoch 6/20\n",
      "450/450 - 1s - 2ms/step - accuracy: 0.8633 - loss: 0.4758 - val_accuracy: 0.8719 - val_loss: 0.4684\n",
      "Epoch 7/20\n",
      "450/450 - 1s - 2ms/step - accuracy: 0.8739 - loss: 0.4309 - val_accuracy: 0.8750 - val_loss: 0.4424\n",
      "Epoch 8/20\n",
      "450/450 - 1s - 2ms/step - accuracy: 0.8869 - loss: 0.3946 - val_accuracy: 0.8938 - val_loss: 0.4105\n",
      "Epoch 9/20\n",
      "450/450 - 1s - 2ms/step - accuracy: 0.8962 - loss: 0.3625 - val_accuracy: 0.8888 - val_loss: 0.3863\n",
      "Epoch 10/20\n",
      "450/450 - 1s - 2ms/step - accuracy: 0.9002 - loss: 0.3370 - val_accuracy: 0.8963 - val_loss: 0.3629\n",
      "Epoch 11/20\n",
      "450/450 - 1s - 2ms/step - accuracy: 0.9072 - loss: 0.3155 - val_accuracy: 0.9025 - val_loss: 0.3372\n",
      "Epoch 12/20\n",
      "450/450 - 1s - 3ms/step - accuracy: 0.9108 - loss: 0.2937 - val_accuracy: 0.9087 - val_loss: 0.3340\n",
      "Epoch 13/20\n",
      "450/450 - 1s - 2ms/step - accuracy: 0.9174 - loss: 0.2764 - val_accuracy: 0.9075 - val_loss: 0.3208\n",
      "Epoch 14/20\n",
      "450/450 - 1s - 2ms/step - accuracy: 0.9217 - loss: 0.2612 - val_accuracy: 0.9112 - val_loss: 0.3086\n",
      "Epoch 15/20\n",
      "450/450 - 1s - 2ms/step - accuracy: 0.9257 - loss: 0.2479 - val_accuracy: 0.9137 - val_loss: 0.3027\n",
      "Epoch 16/20\n",
      "450/450 - 1s - 2ms/step - accuracy: 0.9308 - loss: 0.2355 - val_accuracy: 0.9125 - val_loss: 0.2920\n",
      "Epoch 17/20\n",
      "450/450 - 2s - 4ms/step - accuracy: 0.9326 - loss: 0.2235 - val_accuracy: 0.9125 - val_loss: 0.2894\n",
      "Epoch 18/20\n",
      "450/450 - 2s - 4ms/step - accuracy: 0.9347 - loss: 0.2155 - val_accuracy: 0.9156 - val_loss: 0.2759\n",
      "Epoch 19/20\n",
      "450/450 - 2s - 4ms/step - accuracy: 0.9375 - loss: 0.2080 - val_accuracy: 0.9262 - val_loss: 0.2667\n",
      "Epoch 20/20\n",
      "450/450 - 2s - 3ms/step - accuracy: 0.9411 - loss: 0.1979 - val_accuracy: 0.9300 - val_loss: 0.2551\n",
      "Baseline test loss, test accuracy: [0.2440434694290161, 0.9254999756813049]\n"
     ]
    }
   ],
   "source": [
    "# Train the baseline model (20 epochs, batch size 32, with 10% validation split)\n",
    "history_baseline = baseline.fit(X_train, y_train, epochs=20, batch_size=32, validation_split=0.1, verbose=2)\n",
    "\n",
    "# Evaluate the trained model on test data\n",
    "baseline_eval = baseline.evaluate(X_test, y_test, verbose=0)\n",
    "\n",
    "# Print test loss and accuracy\n",
    "print('Baseline test loss, test accuracy:', baseline_eval)\n"
   ]
  },
  {
   "cell_type": "code",
   "execution_count": null,
   "id": "72279c69",
   "metadata": {},
   "outputs": [
    {
     "name": "stdout",
     "output_type": "stream",
     "text": [
      "\u001b[1m125/125\u001b[0m \u001b[32m━━━━━━━━━━━━━━━━━━━━\u001b[0m\u001b[37m\u001b[0m \u001b[1m0s\u001b[0m 2ms/step\n",
      "Accuracy: 0.9255\n",
      "\n",
      "Classification report:\n",
      "              precision    recall  f1-score   support\n",
      "\n",
      "           0       0.97      0.94      0.96       158\n",
      "           1       0.88      0.88      0.88       153\n",
      "           2       0.89      0.97      0.93       147\n",
      "           3       0.89      0.93      0.91       161\n",
      "           4       0.90      0.92      0.91       154\n",
      "           5       0.91      0.88      0.90       155\n",
      "           6       0.89      0.92      0.91       155\n",
      "           7       0.84      0.88      0.86       147\n",
      "           8       0.98      0.88      0.93       151\n",
      "           9       0.94      0.95      0.95       149\n",
      "          10       0.94      0.88      0.91       148\n",
      "          11       0.94      0.94      0.94       152\n",
      "          12       0.96      0.96      0.96       158\n",
      "          13       0.97      0.88      0.92       157\n",
      "          14       0.94      0.91      0.93       150\n",
      "          15       0.92      0.92      0.92       161\n",
      "          16       0.96      0.98      0.97       157\n",
      "          17       0.86      0.90      0.88       151\n",
      "          18       0.88      0.91      0.90       150\n",
      "          19       0.97      0.92      0.95       159\n",
      "          20       0.95      0.98      0.96       163\n",
      "          21       0.95      0.93      0.94       153\n",
      "          22       0.96      0.97      0.96       150\n",
      "          23       0.92      0.94      0.93       157\n",
      "          24       0.92      0.94      0.93       157\n",
      "          25       0.97      0.94      0.95       147\n",
      "\n",
      "    accuracy                           0.93      4000\n",
      "   macro avg       0.93      0.93      0.93      4000\n",
      "weighted avg       0.93      0.93      0.93      4000\n",
      "\n",
      "\n",
      "Confusion matrix:\n",
      "[[149   0   2   0   0   0   0   0   0   0   0   1   0   0   1   0   0   0\n",
      "    0   0   1   0   0   0   4   0]\n",
      " [  0 134   0   1   0   1   0   3   0   0   1   0   0   0   0   0   0   5\n",
      "    7   0   1   0   0   0   0   0]\n",
      " [  0   0 143   0   1   0   1   1   0   0   0   0   0   0   0   0   0   0\n",
      "    0   0   1   0   0   0   0   0]\n",
      " [  0   7   0 149   0   0   1   0   0   0   1   0   1   0   0   0   0   0\n",
      "    0   0   0   0   0   1   1   0]\n",
      " [  0   1   6   0 141   0   3   0   0   0   0   1   0   0   0   0   0   0\n",
      "    0   1   0   0   0   1   0   0]\n",
      " [  0   0   0   0   1 137   1   3   0   0   0   0   0   1   0   7   1   0\n",
      "    1   0   0   1   0   0   1   1]\n",
      " [  0   0   4   1   2   0 143   1   0   0   0   0   0   0   0   0   2   1\n",
      "    0   0   0   1   0   0   0   0]\n",
      " [  0   2   0   5   0   0   1 129   0   0   1   0   0   1   0   1   0   6\n",
      "    0   0   1   0   0   0   0   0]\n",
      " [  0   0   0   0   0   2   2   0 133   7   0   1   0   0   0   0   0   0\n",
      "    2   0   0   0   0   3   1   0]\n",
      " [  0   0   0   0   0   0   0   0   2 142   0   0   0   1   0   0   0   0\n",
      "    2   0   0   0   0   2   0   0]\n",
      " [  0   0   2   0   0   0   1   2   0   0 130   0   1   0   0   0   0   6\n",
      "    1   0   1   0   0   4   0   0]\n",
      " [  0   0   0   0   4   0   2   0   0   0   0 143   0   0   0   0   0   1\n",
      "    0   0   0   0   0   1   1   0]\n",
      " [  1   0   0   0   0   0   1   1   0   0   0   0 151   0   2   1   0   0\n",
      "    0   0   1   0   0   0   0   0]\n",
      " [  1   0   0   5   0   0   0   6   0   0   0   0   2 138   2   0   0   2\n",
      "    0   0   0   0   1   0   0   0]\n",
      " [  0   0   2   4   0   0   0   0   0   1   0   0   0   0 137   0   2   0\n",
      "    1   0   2   1   0   0   0   0]\n",
      " [  0   1   0   0   0   6   3   1   0   0   0   0   0   0   1 148   0   0\n",
      "    0   0   0   0   1   0   0   0]\n",
      " [  0   0   1   1   0   0   0   0   0   0   0   0   0   0   0   0 154   0\n",
      "    0   0   0   0   0   0   1   0]\n",
      " [  1   4   0   1   0   0   0   3   0   0   2   0   0   1   0   2   0 136\n",
      "    0   0   0   0   0   1   0   0]\n",
      " [  1   0   0   0   2   3   0   0   0   0   0   4   0   0   0   0   0   0\n",
      "  137   0   0   0   0   0   0   3]\n",
      " [  0   0   0   0   0   0   2   0   0   0   1   1   0   0   0   1   0   2\n",
      "    0 147   1   0   1   0   2   1]\n",
      " [  0   0   0   0   0   0   0   0   0   0   0   0   0   0   1   0   1   0\n",
      "    0   0 160   1   0   0   0   0]\n",
      " [  0   3   1   0   0   0   0   2   0   0   0   0   0   0   0   0   0   0\n",
      "    0   0   0 143   3   0   1   0]\n",
      " [  0   0   0   0   0   0   0   0   0   0   0   0   3   0   1   0   0   0\n",
      "    0   0   0   1 145   0   0   0]\n",
      " [  0   0   0   1   2   0   0   1   1   0   3   0   0   0   0   0   0   0\n",
      "    1   0   0   0   0 148   0   0]\n",
      " [  0   0   0   0   0   1   0   0   0   0   0   0   0   0   0   1   0   0\n",
      "    1   4   0   3   0   0 147   0]\n",
      " [  1   0   0   0   3   0   0   0   0   1   0   1   0   0   0   0   0   0\n",
      "    3   0   0   0   0   0   0 138]]\n"
     ]
    }
   ],
   "source": [
    "# Generate predictions based on classification type\n",
    "if num_classes > 2:\n",
    "    y_pred_probs = baseline.predict(X_test)              # Probabilities for multi-class\n",
    "    y_pred = np.argmax(y_pred_probs, axis=1)             # Pick class with highest probability\n",
    "else:\n",
    "    y_pred_probs = baseline.predict(X_test).ravel()      # Probabilities for binary class\n",
    "    y_pred = (y_pred_probs > 0.5).astype(int)            # Convert to 0/1 predictions\n",
    "\n",
    "# Evaluate predictions with accuracy, classification report, and confusion matrix\n",
    "print('Accuracy:', accuracy_score(y_test, y_pred))\n",
    "print('\\nClassification report:')\n",
    "print(classification_report(y_test, y_pred))\n",
    "print('\\nConfusion matrix:')\n",
    "print(confusion_matrix(y_test, y_pred))\n"
   ]
  },
  {
   "cell_type": "code",
   "execution_count": 15,
   "id": "54fe0ba0",
   "metadata": {},
   "outputs": [
    {
     "name": "stdout",
     "output_type": "stream",
     "text": [
      "Starting randomized search (this may take time)...\n",
      "Fitting 3 folds for each of 8 candidates, totalling 24 fits\n"
     ]
    },
    {
     "name": "stderr",
     "output_type": "stream",
     "text": [
      "c:\\Users\\mohds\\AppData\\Local\\Programs\\Python\\Python310\\lib\\site-packages\\keras\\src\\layers\\core\\dense.py:92: UserWarning: Do not pass an `input_shape`/`input_dim` argument to a layer. When using Sequential models, prefer using an `Input(shape)` object as the first layer in the model instead.\n",
      "  super().__init__(activity_regularizer=activity_regularizer, **kwargs)\n"
     ]
    },
    {
     "name": "stdout",
     "output_type": "stream",
     "text": [
      "[CV] END batch_size=32, epochs=30, model__activation=tanh, model__dropout_rate=0.4, model__lr=0.0005, model__units1=64, model__units2=64; total time=  24.9s\n"
     ]
    },
    {
     "name": "stderr",
     "output_type": "stream",
     "text": [
      "c:\\Users\\mohds\\AppData\\Local\\Programs\\Python\\Python310\\lib\\site-packages\\keras\\src\\layers\\core\\dense.py:92: UserWarning: Do not pass an `input_shape`/`input_dim` argument to a layer. When using Sequential models, prefer using an `Input(shape)` object as the first layer in the model instead.\n",
      "  super().__init__(activity_regularizer=activity_regularizer, **kwargs)\n"
     ]
    },
    {
     "name": "stdout",
     "output_type": "stream",
     "text": [
      "[CV] END batch_size=32, epochs=30, model__activation=tanh, model__dropout_rate=0.4, model__lr=0.0005, model__units1=64, model__units2=64; total time=  52.2s\n"
     ]
    },
    {
     "name": "stderr",
     "output_type": "stream",
     "text": [
      "c:\\Users\\mohds\\AppData\\Local\\Programs\\Python\\Python310\\lib\\site-packages\\keras\\src\\layers\\core\\dense.py:92: UserWarning: Do not pass an `input_shape`/`input_dim` argument to a layer. When using Sequential models, prefer using an `Input(shape)` object as the first layer in the model instead.\n",
      "  super().__init__(activity_regularizer=activity_regularizer, **kwargs)\n"
     ]
    },
    {
     "name": "stdout",
     "output_type": "stream",
     "text": [
      "[CV] END batch_size=32, epochs=30, model__activation=tanh, model__dropout_rate=0.4, model__lr=0.0005, model__units1=64, model__units2=64; total time=  39.4s\n"
     ]
    },
    {
     "name": "stderr",
     "output_type": "stream",
     "text": [
      "c:\\Users\\mohds\\AppData\\Local\\Programs\\Python\\Python310\\lib\\site-packages\\keras\\src\\layers\\core\\dense.py:92: UserWarning: Do not pass an `input_shape`/`input_dim` argument to a layer. When using Sequential models, prefer using an `Input(shape)` object as the first layer in the model instead.\n",
      "  super().__init__(activity_regularizer=activity_regularizer, **kwargs)\n"
     ]
    },
    {
     "name": "stdout",
     "output_type": "stream",
     "text": [
      "[CV] END batch_size=16, epochs=30, model__activation=relu, model__dropout_rate=0.4, model__lr=0.001, model__units1=64, model__units2=32; total time= 1.8min\n"
     ]
    },
    {
     "name": "stderr",
     "output_type": "stream",
     "text": [
      "c:\\Users\\mohds\\AppData\\Local\\Programs\\Python\\Python310\\lib\\site-packages\\keras\\src\\layers\\core\\dense.py:92: UserWarning: Do not pass an `input_shape`/`input_dim` argument to a layer. When using Sequential models, prefer using an `Input(shape)` object as the first layer in the model instead.\n",
      "  super().__init__(activity_regularizer=activity_regularizer, **kwargs)\n"
     ]
    },
    {
     "name": "stdout",
     "output_type": "stream",
     "text": [
      "[CV] END batch_size=16, epochs=30, model__activation=relu, model__dropout_rate=0.4, model__lr=0.001, model__units1=64, model__units2=32; total time= 2.5min\n"
     ]
    },
    {
     "name": "stderr",
     "output_type": "stream",
     "text": [
      "c:\\Users\\mohds\\AppData\\Local\\Programs\\Python\\Python310\\lib\\site-packages\\keras\\src\\layers\\core\\dense.py:92: UserWarning: Do not pass an `input_shape`/`input_dim` argument to a layer. When using Sequential models, prefer using an `Input(shape)` object as the first layer in the model instead.\n",
      "  super().__init__(activity_regularizer=activity_regularizer, **kwargs)\n"
     ]
    },
    {
     "name": "stdout",
     "output_type": "stream",
     "text": [
      "[CV] END batch_size=16, epochs=30, model__activation=relu, model__dropout_rate=0.4, model__lr=0.001, model__units1=64, model__units2=32; total time= 2.4min\n"
     ]
    },
    {
     "name": "stderr",
     "output_type": "stream",
     "text": [
      "c:\\Users\\mohds\\AppData\\Local\\Programs\\Python\\Python310\\lib\\site-packages\\keras\\src\\layers\\core\\dense.py:92: UserWarning: Do not pass an `input_shape`/`input_dim` argument to a layer. When using Sequential models, prefer using an `Input(shape)` object as the first layer in the model instead.\n",
      "  super().__init__(activity_regularizer=activity_regularizer, **kwargs)\n"
     ]
    },
    {
     "name": "stdout",
     "output_type": "stream",
     "text": [
      "[CV] END batch_size=32, epochs=30, model__activation=tanh, model__dropout_rate=0.0, model__lr=0.0001, model__units1=128, model__units2=64; total time= 1.4min\n"
     ]
    },
    {
     "name": "stderr",
     "output_type": "stream",
     "text": [
      "c:\\Users\\mohds\\AppData\\Local\\Programs\\Python\\Python310\\lib\\site-packages\\keras\\src\\layers\\core\\dense.py:92: UserWarning: Do not pass an `input_shape`/`input_dim` argument to a layer. When using Sequential models, prefer using an `Input(shape)` object as the first layer in the model instead.\n",
      "  super().__init__(activity_regularizer=activity_regularizer, **kwargs)\n"
     ]
    },
    {
     "name": "stdout",
     "output_type": "stream",
     "text": [
      "[CV] END batch_size=32, epochs=30, model__activation=tanh, model__dropout_rate=0.0, model__lr=0.0001, model__units1=128, model__units2=64; total time= 1.3min\n"
     ]
    },
    {
     "name": "stderr",
     "output_type": "stream",
     "text": [
      "c:\\Users\\mohds\\AppData\\Local\\Programs\\Python\\Python310\\lib\\site-packages\\keras\\src\\layers\\core\\dense.py:92: UserWarning: Do not pass an `input_shape`/`input_dim` argument to a layer. When using Sequential models, prefer using an `Input(shape)` object as the first layer in the model instead.\n",
      "  super().__init__(activity_regularizer=activity_regularizer, **kwargs)\n"
     ]
    },
    {
     "name": "stdout",
     "output_type": "stream",
     "text": [
      "[CV] END batch_size=32, epochs=30, model__activation=tanh, model__dropout_rate=0.0, model__lr=0.0001, model__units1=128, model__units2=64; total time= 1.4min\n"
     ]
    },
    {
     "name": "stderr",
     "output_type": "stream",
     "text": [
      "c:\\Users\\mohds\\AppData\\Local\\Programs\\Python\\Python310\\lib\\site-packages\\keras\\src\\layers\\core\\dense.py:92: UserWarning: Do not pass an `input_shape`/`input_dim` argument to a layer. When using Sequential models, prefer using an `Input(shape)` object as the first layer in the model instead.\n",
      "  super().__init__(activity_regularizer=activity_regularizer, **kwargs)\n"
     ]
    },
    {
     "name": "stdout",
     "output_type": "stream",
     "text": [
      "[CV] END batch_size=32, epochs=20, model__activation=tanh, model__dropout_rate=0.0, model__lr=0.0001, model__units1=128, model__units2=16; total time=  47.8s\n"
     ]
    },
    {
     "name": "stderr",
     "output_type": "stream",
     "text": [
      "c:\\Users\\mohds\\AppData\\Local\\Programs\\Python\\Python310\\lib\\site-packages\\keras\\src\\layers\\core\\dense.py:92: UserWarning: Do not pass an `input_shape`/`input_dim` argument to a layer. When using Sequential models, prefer using an `Input(shape)` object as the first layer in the model instead.\n",
      "  super().__init__(activity_regularizer=activity_regularizer, **kwargs)\n"
     ]
    },
    {
     "name": "stdout",
     "output_type": "stream",
     "text": [
      "[CV] END batch_size=32, epochs=20, model__activation=tanh, model__dropout_rate=0.0, model__lr=0.0001, model__units1=128, model__units2=16; total time=  55.2s\n"
     ]
    },
    {
     "name": "stderr",
     "output_type": "stream",
     "text": [
      "c:\\Users\\mohds\\AppData\\Local\\Programs\\Python\\Python310\\lib\\site-packages\\keras\\src\\layers\\core\\dense.py:92: UserWarning: Do not pass an `input_shape`/`input_dim` argument to a layer. When using Sequential models, prefer using an `Input(shape)` object as the first layer in the model instead.\n",
      "  super().__init__(activity_regularizer=activity_regularizer, **kwargs)\n"
     ]
    },
    {
     "name": "stdout",
     "output_type": "stream",
     "text": [
      "[CV] END batch_size=32, epochs=20, model__activation=tanh, model__dropout_rate=0.0, model__lr=0.0001, model__units1=128, model__units2=16; total time=  52.7s\n"
     ]
    },
    {
     "name": "stderr",
     "output_type": "stream",
     "text": [
      "c:\\Users\\mohds\\AppData\\Local\\Programs\\Python\\Python310\\lib\\site-packages\\keras\\src\\layers\\core\\dense.py:92: UserWarning: Do not pass an `input_shape`/`input_dim` argument to a layer. When using Sequential models, prefer using an `Input(shape)` object as the first layer in the model instead.\n",
      "  super().__init__(activity_regularizer=activity_regularizer, **kwargs)\n"
     ]
    },
    {
     "name": "stdout",
     "output_type": "stream",
     "text": [
      "[CV] END batch_size=16, epochs=20, model__activation=relu, model__dropout_rate=0.4, model__lr=0.0001, model__units1=32, model__units2=16; total time= 1.4min\n"
     ]
    },
    {
     "name": "stderr",
     "output_type": "stream",
     "text": [
      "c:\\Users\\mohds\\AppData\\Local\\Programs\\Python\\Python310\\lib\\site-packages\\keras\\src\\layers\\core\\dense.py:92: UserWarning: Do not pass an `input_shape`/`input_dim` argument to a layer. When using Sequential models, prefer using an `Input(shape)` object as the first layer in the model instead.\n",
      "  super().__init__(activity_regularizer=activity_regularizer, **kwargs)\n"
     ]
    },
    {
     "name": "stdout",
     "output_type": "stream",
     "text": [
      "[CV] END batch_size=16, epochs=20, model__activation=relu, model__dropout_rate=0.4, model__lr=0.0001, model__units1=32, model__units2=16; total time= 1.7min\n"
     ]
    },
    {
     "name": "stderr",
     "output_type": "stream",
     "text": [
      "c:\\Users\\mohds\\AppData\\Local\\Programs\\Python\\Python310\\lib\\site-packages\\keras\\src\\layers\\core\\dense.py:92: UserWarning: Do not pass an `input_shape`/`input_dim` argument to a layer. When using Sequential models, prefer using an `Input(shape)` object as the first layer in the model instead.\n",
      "  super().__init__(activity_regularizer=activity_regularizer, **kwargs)\n"
     ]
    },
    {
     "name": "stdout",
     "output_type": "stream",
     "text": [
      "[CV] END batch_size=16, epochs=20, model__activation=relu, model__dropout_rate=0.4, model__lr=0.0001, model__units1=32, model__units2=16; total time= 1.6min\n"
     ]
    },
    {
     "name": "stderr",
     "output_type": "stream",
     "text": [
      "c:\\Users\\mohds\\AppData\\Local\\Programs\\Python\\Python310\\lib\\site-packages\\keras\\src\\layers\\core\\dense.py:92: UserWarning: Do not pass an `input_shape`/`input_dim` argument to a layer. When using Sequential models, prefer using an `Input(shape)` object as the first layer in the model instead.\n",
      "  super().__init__(activity_regularizer=activity_regularizer, **kwargs)\n"
     ]
    },
    {
     "name": "stdout",
     "output_type": "stream",
     "text": [
      "[CV] END batch_size=32, epochs=20, model__activation=tanh, model__dropout_rate=0.2, model__lr=0.0005, model__units1=128, model__units2=32; total time=  55.5s\n"
     ]
    },
    {
     "name": "stderr",
     "output_type": "stream",
     "text": [
      "c:\\Users\\mohds\\AppData\\Local\\Programs\\Python\\Python310\\lib\\site-packages\\keras\\src\\layers\\core\\dense.py:92: UserWarning: Do not pass an `input_shape`/`input_dim` argument to a layer. When using Sequential models, prefer using an `Input(shape)` object as the first layer in the model instead.\n",
      "  super().__init__(activity_regularizer=activity_regularizer, **kwargs)\n"
     ]
    },
    {
     "name": "stdout",
     "output_type": "stream",
     "text": [
      "[CV] END batch_size=32, epochs=20, model__activation=tanh, model__dropout_rate=0.2, model__lr=0.0005, model__units1=128, model__units2=32; total time=  53.3s\n"
     ]
    },
    {
     "name": "stderr",
     "output_type": "stream",
     "text": [
      "c:\\Users\\mohds\\AppData\\Local\\Programs\\Python\\Python310\\lib\\site-packages\\keras\\src\\layers\\core\\dense.py:92: UserWarning: Do not pass an `input_shape`/`input_dim` argument to a layer. When using Sequential models, prefer using an `Input(shape)` object as the first layer in the model instead.\n",
      "  super().__init__(activity_regularizer=activity_regularizer, **kwargs)\n"
     ]
    },
    {
     "name": "stdout",
     "output_type": "stream",
     "text": [
      "[CV] END batch_size=32, epochs=20, model__activation=tanh, model__dropout_rate=0.2, model__lr=0.0005, model__units1=128, model__units2=32; total time=  52.3s\n"
     ]
    },
    {
     "name": "stderr",
     "output_type": "stream",
     "text": [
      "c:\\Users\\mohds\\AppData\\Local\\Programs\\Python\\Python310\\lib\\site-packages\\keras\\src\\layers\\core\\dense.py:92: UserWarning: Do not pass an `input_shape`/`input_dim` argument to a layer. When using Sequential models, prefer using an `Input(shape)` object as the first layer in the model instead.\n",
      "  super().__init__(activity_regularizer=activity_regularizer, **kwargs)\n"
     ]
    },
    {
     "name": "stdout",
     "output_type": "stream",
     "text": [
      "[CV] END batch_size=16, epochs=30, model__activation=relu, model__dropout_rate=0.0, model__lr=0.0001, model__units1=32, model__units2=32; total time= 2.5min\n"
     ]
    },
    {
     "name": "stderr",
     "output_type": "stream",
     "text": [
      "c:\\Users\\mohds\\AppData\\Local\\Programs\\Python\\Python310\\lib\\site-packages\\keras\\src\\layers\\core\\dense.py:92: UserWarning: Do not pass an `input_shape`/`input_dim` argument to a layer. When using Sequential models, prefer using an `Input(shape)` object as the first layer in the model instead.\n",
      "  super().__init__(activity_regularizer=activity_regularizer, **kwargs)\n"
     ]
    },
    {
     "name": "stdout",
     "output_type": "stream",
     "text": [
      "[CV] END batch_size=16, epochs=30, model__activation=relu, model__dropout_rate=0.0, model__lr=0.0001, model__units1=32, model__units2=32; total time= 2.4min\n"
     ]
    },
    {
     "name": "stderr",
     "output_type": "stream",
     "text": [
      "c:\\Users\\mohds\\AppData\\Local\\Programs\\Python\\Python310\\lib\\site-packages\\keras\\src\\layers\\core\\dense.py:92: UserWarning: Do not pass an `input_shape`/`input_dim` argument to a layer. When using Sequential models, prefer using an `Input(shape)` object as the first layer in the model instead.\n",
      "  super().__init__(activity_regularizer=activity_regularizer, **kwargs)\n"
     ]
    },
    {
     "name": "stdout",
     "output_type": "stream",
     "text": [
      "[CV] END batch_size=16, epochs=30, model__activation=relu, model__dropout_rate=0.0, model__lr=0.0001, model__units1=32, model__units2=32; total time= 2.6min\n"
     ]
    },
    {
     "name": "stderr",
     "output_type": "stream",
     "text": [
      "c:\\Users\\mohds\\AppData\\Local\\Programs\\Python\\Python310\\lib\\site-packages\\keras\\src\\layers\\core\\dense.py:92: UserWarning: Do not pass an `input_shape`/`input_dim` argument to a layer. When using Sequential models, prefer using an `Input(shape)` object as the first layer in the model instead.\n",
      "  super().__init__(activity_regularizer=activity_regularizer, **kwargs)\n"
     ]
    },
    {
     "name": "stdout",
     "output_type": "stream",
     "text": [
      "[CV] END batch_size=16, epochs=20, model__activation=tanh, model__dropout_rate=0.2, model__lr=0.0001, model__units1=64, model__units2=64; total time= 1.7min\n"
     ]
    },
    {
     "name": "stderr",
     "output_type": "stream",
     "text": [
      "c:\\Users\\mohds\\AppData\\Local\\Programs\\Python\\Python310\\lib\\site-packages\\keras\\src\\layers\\core\\dense.py:92: UserWarning: Do not pass an `input_shape`/`input_dim` argument to a layer. When using Sequential models, prefer using an `Input(shape)` object as the first layer in the model instead.\n",
      "  super().__init__(activity_regularizer=activity_regularizer, **kwargs)\n"
     ]
    },
    {
     "name": "stdout",
     "output_type": "stream",
     "text": [
      "[CV] END batch_size=16, epochs=20, model__activation=tanh, model__dropout_rate=0.2, model__lr=0.0001, model__units1=64, model__units2=64; total time= 1.8min\n"
     ]
    },
    {
     "name": "stderr",
     "output_type": "stream",
     "text": [
      "c:\\Users\\mohds\\AppData\\Local\\Programs\\Python\\Python310\\lib\\site-packages\\keras\\src\\layers\\core\\dense.py:92: UserWarning: Do not pass an `input_shape`/`input_dim` argument to a layer. When using Sequential models, prefer using an `Input(shape)` object as the first layer in the model instead.\n",
      "  super().__init__(activity_regularizer=activity_regularizer, **kwargs)\n"
     ]
    },
    {
     "name": "stdout",
     "output_type": "stream",
     "text": [
      "[CV] END batch_size=16, epochs=20, model__activation=tanh, model__dropout_rate=0.2, model__lr=0.0001, model__units1=64, model__units2=64; total time= 1.8min\n"
     ]
    },
    {
     "name": "stderr",
     "output_type": "stream",
     "text": [
      "c:\\Users\\mohds\\AppData\\Local\\Programs\\Python\\Python310\\lib\\site-packages\\keras\\src\\layers\\core\\dense.py:92: UserWarning: Do not pass an `input_shape`/`input_dim` argument to a layer. When using Sequential models, prefer using an `Input(shape)` object as the first layer in the model instead.\n",
      "  super().__init__(activity_regularizer=activity_regularizer, **kwargs)\n"
     ]
    },
    {
     "name": "stdout",
     "output_type": "stream",
     "text": [
      "Best params: {'model__units2': 64, 'model__units1': 128, 'model__lr': 0.0001, 'model__dropout_rate': 0.0, 'model__activation': 'tanh', 'epochs': 30, 'batch_size': 32}\n",
      "Best CV score: 0.8207499517276259\n"
     ]
    }
   ],
   "source": [
    "\n",
    "# Features and classes\n",
    "num_features = X_train.shape[1]\n",
    "num_classes = len(set(y_train))\n",
    "\n",
    "# Build model function\n",
    "def build_model(units1=64, units2=32, activation='relu', dropout_rate=0.0, lr=0.001):\n",
    "    model = Sequential()\n",
    "    model.add(Dense(units1, input_dim=num_features, activation=activation))\n",
    "    if dropout_rate > 0:\n",
    "        model.add(Dropout(dropout_rate))\n",
    "    model.add(Dense(units2, activation=activation))\n",
    "    if dropout_rate > 0:\n",
    "        model.add(Dropout(dropout_rate))\n",
    "    if num_classes > 2:\n",
    "        model.add(Dense(num_classes, activation='softmax'))\n",
    "        loss = 'sparse_categorical_crossentropy'\n",
    "    else:\n",
    "        model.add(Dense(1, activation='sigmoid'))\n",
    "        loss = 'binary_crossentropy'\n",
    "    opt = tf.keras.optimizers.Adam(learning_rate=lr)\n",
    "    model.compile(optimizer=opt, loss=loss, metrics=['accuracy'])\n",
    "    return model\n",
    "\n",
    "# Wrap in KerasClassifier (scikeras)\n",
    "keras_clf = KerasClassifier(model=build_model, epochs=30, batch_size=32, verbose=0)\n",
    "\n",
    "# Hyperparameter space\n",
    "param_dist = {\n",
    "    \"model__units1\": [32, 64, 128],\n",
    "    \"model__units2\": [16, 32, 64],\n",
    "    \"model__activation\": [\"relu\", \"tanh\"],\n",
    "    \"model__dropout_rate\": [0.0, 0.2, 0.4],\n",
    "    \"model__lr\": [1e-3, 5e-4, 1e-4],\n",
    "    \"batch_size\": [16, 32],\n",
    "    \"epochs\": [20, 30]\n",
    "}\n",
    "\n",
    "# Randomized search\n",
    "rs = RandomizedSearchCV(\n",
    "    keras_clf,\n",
    "    param_distributions=param_dist,\n",
    "    n_iter=8,\n",
    "    cv=3,\n",
    "    verbose=2,\n",
    "    random_state=42,\n",
    "    n_jobs=1\n",
    ")\n",
    "\n",
    "print(\"Starting randomized search (this may take time)...\")\n",
    "rs_result = rs.fit(X_train, y_train)\n",
    "print(\"Best params:\", rs_result.best_params_)\n",
    "print(\"Best CV score:\", rs_result.best_score_)\n"
   ]
  },
  {
   "cell_type": "code",
   "execution_count": 16,
   "id": "96c3f85f",
   "metadata": {},
   "outputs": [
    {
     "name": "stdout",
     "output_type": "stream",
     "text": [
      "Could not directly evaluate model from wrapper; will re-build and set weights. Error: 'function' object has no attribute 'evaluate'\n"
     ]
    }
   ],
   "source": [
    "best_model = rs_result.best_estimator_.model\n",
    "try:\n",
    "    test_eval = best_model.evaluate(X_test, y_test, verbose=0)\n",
    "    print('Tuned model test loss, test accuracy:', test_eval)\n",
    "except Exception as e:\n",
    "    print('Could not directly evaluate model from wrapper; will re-build and set weights. Error:', e)\n",
    "\n",
    "# Predictions\n",
    "# KerasClassifier.predict returns class labels for classification\n"
   ]
  },
  {
   "cell_type": "code",
   "execution_count": 17,
   "id": "8687ca23",
   "metadata": {},
   "outputs": [
    {
     "name": "stdout",
     "output_type": "stream",
     "text": [
      "Tuned model accuracy: 0.84275\n",
      "\n",
      "Tuned model classification report:\n",
      "              precision    recall  f1-score   support\n",
      "\n",
      "           0       0.92      0.90      0.91       158\n",
      "           1       0.76      0.81      0.78       153\n",
      "           2       0.92      0.88      0.90       147\n",
      "           3       0.83      0.89      0.86       161\n",
      "           4       0.78      0.84      0.81       154\n",
      "           5       0.78      0.79      0.79       155\n",
      "           6       0.78      0.75      0.77       155\n",
      "           7       0.81      0.66      0.73       147\n",
      "           8       0.95      0.81      0.87       151\n",
      "           9       0.88      0.87      0.88       149\n",
      "          10       0.78      0.82      0.80       148\n",
      "          11       0.88      0.88      0.88       152\n",
      "          12       0.90      0.92      0.91       158\n",
      "          13       0.89      0.85      0.87       157\n",
      "          14       0.80      0.84      0.82       150\n",
      "          15       0.94      0.86      0.90       161\n",
      "          16       0.85      0.87      0.86       157\n",
      "          17       0.71      0.75      0.73       151\n",
      "          18       0.66      0.76      0.71       150\n",
      "          19       0.88      0.81      0.85       159\n",
      "          20       0.91      0.94      0.92       163\n",
      "          21       0.91      0.89      0.90       153\n",
      "          22       0.89      0.98      0.93       150\n",
      "          23       0.81      0.82      0.81       157\n",
      "          24       0.86      0.87      0.87       157\n",
      "          25       0.90      0.83      0.87       147\n",
      "\n",
      "    accuracy                           0.84      4000\n",
      "   macro avg       0.85      0.84      0.84      4000\n",
      "weighted avg       0.85      0.84      0.84      4000\n",
      "\n",
      "\n",
      "Tuned model confusion matrix:\n",
      "[[142   0   0   0   0   0   0   0   0   0   3   1   2   1   0   0   0   0\n",
      "    0   0   3   0   0   0   5   1]\n",
      " [  1 124   0   1   1   2   1   1   3   0   2   0   1   0   0   0   0   6\n",
      "   10   0   0   0   0   0   0   0]\n",
      " [  0   0 129   1   1   0   5   0   0   0   5   1   0   0   0   0   0   0\n",
      "    3   0   2   0   0   0   0   0]\n",
      " [  0   5   0 143   0   1   0   0   0   1   0   0   1   2   2   0   0   4\n",
      "    0   0   0   0   0   2   0   0]\n",
      " [  0   0   4   0 130   1   7   0   0   0   2   1   0   0   0   0   0   1\n",
      "    2   1   0   0   0   1   0   4]\n",
      " [  0   2   0   1   3 123   0   2   0   0   0   1   0   4   0   5   0   0\n",
      "    6   6   0   0   0   1   1   0]\n",
      " [  0   0   6   1   2   0 116   2   0   0   2   1   2   0   0   1   4   6\n",
      "    9   0   0   3   0   0   0   0]\n",
      " [  0   4   0   9   0   2   1  97   0   1   5   0   3   1   2   0   1  12\n",
      "    1   0   3   3   0   2   0   0]\n",
      " [  0   1   0   1   0   5   0   0 122   3   0   2   0   0   0   0   0   0\n",
      "    6   0   0   0   0   6   4   1]\n",
      " [  2   0   0   0   0   2   0   0   3 130   0   0   0   1   0   0   0   0\n",
      "    7   0   0   0   0   4   0   0]\n",
      " [  0   1   1   0   1   0   0   2   0   0 121   2   2   1   0   0   0  11\n",
      "    0   0   1   0   0   5   0   0]\n",
      " [  0   1   0   0   8   0   3   0   0   0   0 133   0   0   0   0   2   1\n",
      "    1   0   0   0   0   3   0   0]\n",
      " [  1   1   0   0   0   0   0   3   0   0   0   0 146   2   2   0   0   2\n",
      "    0   0   0   0   1   0   0   0]\n",
      " [  1   2   0   5   0   0   0   1   0   0   0   1   2 133   3   1   0   1\n",
      "    0   0   1   2   3   0   1   0]\n",
      " [  3   0   0   4   0   0   0   0   0   1   0   0   0   0 126   0   8   1\n",
      "    0   0   2   1   4   0   0   0]\n",
      " [  0   2   0   1   1   7   4   0   0   0   0   0   0   0   3 138   1   0\n",
      "    0   0   0   0   1   0   3   0]\n",
      " [  1   3   0   0   0   0   3   0   0   0   0   1   0   0   8   0 137   0\n",
      "    1   0   0   0   0   0   2   1]\n",
      " [  1   7   0   3   0   0   0   3   0   0   6   1   1   4   6   1   0 113\n",
      "    0   1   0   0   0   4   0   0]\n",
      " [  1   5   0   0   4   8   1   0   0   4   0   4   0   0   1   1   1   1\n",
      "  114   0   0   0   0   0   0   5]\n",
      " [  0   3   0   0   4   2   5   5   0   1   3   0   0   0   0   0   1   0\n",
      "    1 129   1   1   0   0   2   1]\n",
      " [  0   0   0   0   0   0   1   0   0   0   1   0   1   0   4   0   0   0\n",
      "    0   0 154   0   2   0   0   0]\n",
      " [  0   2   0   0   0   1   1   1   0   0   0   0   0   0   0   0   0   1\n",
      "    0   1   1 136   7   0   2   0]\n",
      " [  0   0   0   0   0   0   0   1   0   0   0   0   2   0   0   0   0   0\n",
      "    0   0   0   0 147   0   0   0]\n",
      " [  0   1   0   2   5   0   0   2   0   3   5   2   0   0   1   0   1   0\n",
      "    2   0   2   0   0 129   2   0]\n",
      " [  0   0   0   0   0   3   0   0   0   0   0   0   0   0   0   0   4   0\n",
      "    1   8   0   3   0   1 137   0]\n",
      " [  1   0   0   1   6   1   0   0   0   4   0   1   0   0   0   0   1   0\n",
      "    8   0   0   0   0   2   0 122]]\n"
     ]
    }
   ],
   "source": [
    "y_pred_tuned = rs_result.best_estimator_.predict(X_test)\n",
    "print('Tuned model accuracy:', accuracy_score(y_test, y_pred_tuned))\n",
    "print('\\nTuned model classification report:')\n",
    "print(classification_report(y_test, y_pred_tuned))\n",
    "print('\\nTuned model confusion matrix:')\n",
    "print(confusion_matrix(y_test, y_pred_tuned))"
   ]
  },
  {
   "cell_type": "code",
   "execution_count": 18,
   "id": "ec6caa28",
   "metadata": {},
   "outputs": [
    {
     "data": {
      "image/png": "[encoded data removed]",
      "text/plain": [
       "<Figure size 1000x400 with 2 Axes>"
      ]
     },
     "metadata": {},
     "output_type": "display_data"
    }
   ],
   "source": [
    "plt.figure(figsize=(10,4))\n",
    "plt.subplot(1,2,1)\n",
    "plt.plot(history_baseline.history['loss'], label='train_loss')\n",
    "plt.plot(history_baseline.history['val_loss'], label='val_loss')\n",
    "plt.title('Loss (Baseline)'); plt.legend()\n",
    "plt.subplot(1,2,2)\n",
    "plt.plot(history_baseline.history['accuracy'], label='train_acc')\n",
    "plt.plot(history_baseline.history['val_accuracy'], label='val_acc')\n",
    "plt.title('Accuracy (Baseline)'); plt.legend()\n",
    "plt.tight_layout()\n",
    "plt.show()"
   ]
  },
  {
   "cell_type": "markdown",
   "id": "2549bd72",
   "metadata": {},
   "source": [
    "## Next steps and tips\n",
    "\n",
    "- If classes are highly imbalanced, consider class weights or oversampling.\n",
    "- Increase `n_iter` in RandomizedSearchCV or use GridSearchCV for exhaustive search.\n",
    "- Try callbacks like EarlyStopping and ReduceLROnPlateau to speed training and improve results.\n",
    "\n",
    "This notebook is ready to run as-is."
   ]
  }
 ],
 "metadata": {
  "kernelspec": {
   "display_name": "Python 3",
   "language": "python",
   "name": "python3"
  },
  "language_info": {
   "codemirror_mode": {
    "name": "ipython",
    "version": 3
   },
   "file_extension": ".py",
   "mimetype": "text/x-python",
   "name": "python",
   "nbconvert_exporter": "python",
   "pygments_lexer": "ipython3",
   "version": "3.10.6"
  }
 },
 "nbformat": 4,
 "nbformat_minor": 5
}
